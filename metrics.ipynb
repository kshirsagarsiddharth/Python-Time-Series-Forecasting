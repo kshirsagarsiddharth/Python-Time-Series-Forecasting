{
 "cells": [
  {
   "cell_type": "code",
   "execution_count": 1,
   "id": "21222f43",
   "metadata": {},
   "outputs": [],
   "source": [
    "import numpy as np "
   ]
  },
  {
   "cell_type": "code",
   "execution_count": 10,
   "id": "5652b504",
   "metadata": {},
   "outputs": [],
   "source": [
    "# We are predicting 6 months of actual sales data for a simple model \n",
    "\n",
    "actual = np.array([10, 12, 14, 13, 15, 17])\n",
    "predicted = np.array([12, 10, 13, 15, 16, 18])"
   ]
  },
  {
   "cell_type": "code",
   "execution_count": 8,
   "id": "a236df99",
   "metadata": {},
   "outputs": [],
   "source": [
    "def mape(actual, predicted):\n",
    "    return np.mean(np.abs((actual - predicted) / actual)) * 100\n",
    "\n",
    "\n",
    "def mdape(actual, predicted):\n",
    "    return np.median(np.abs((actual - predicted) / actual)) * 100\n",
    "\n",
    "\n",
    "def smape(actual, predicted):\n",
    "    return (\n",
    "        100\n",
    "        / len(actual)\n",
    "        * np.sum(2 * np.abs(predicted - actual) / (np.abs(actual) + np.abs(predicted)))\n",
    "    )\n",
    "\n",
    "\n",
    "mse = np.mean((actual - predicted) ** 2)\n",
    "rmse = np.sqrt(np.mean((actual - predicted) ** 2))\n",
    "mae = np.mean(np.abs(actual - predicted))\n",
    "mape_val = mape(actual,predicted) \n",
    "mdape_val = mdape(actual,predicted) \n",
    "smape_val = smape(actual,predicted)\n"
   ]
  },
  {
   "cell_type": "code",
   "execution_count": 12,
   "id": "23064398",
   "metadata": {},
   "outputs": [
    {
     "name": "stdout",
     "output_type": "stream",
     "text": [
      "RMSE: 1.58, On an average the models forecast deviates from actual value by 1.58 units, But larger errors are penalized more due to squaring\n",
      "MAE: 1.50, On an average the forecast differs from the actual by 1.5 units, regardless of direction\n",
      "MAPE: 11.96%, On an average the predictions are off by 11.96% relative to actual value.\n",
      "MDAPE: 11.26%, Typical forecast error is about 7.96%\n",
      "sMAPE: 11.70%\n"
     ]
    }
   ],
   "source": [
    "print(f'RMSE: {rmse:.2f}, On an average the models forecast deviates from actual value by 1.58 units, But larger errors are penalized more due to squaring')\n",
    "print(f'MAE: {mae:.2f}, On an average the forecast differs from the actual by 1.5 units, regardless of direction')\n",
    "print(f'MAPE: {mape_val:.2f}%, On an average the predictions are off by 11.96% relative to actual value.')\n",
    "print(f'MDAPE: {mdape_val:.2f}%, Typical forecast error is about 7.96%')\n",
    "print(f'sMAPE: {smape_val:.2f}%')"
   ]
  },
  {
   "cell_type": "code",
   "execution_count": null,
   "id": "2cc6b530",
   "metadata": {},
   "outputs": [],
   "source": []
  },
  {
   "cell_type": "code",
   "execution_count": null,
   "id": "b1e1294a",
   "metadata": {},
   "outputs": [],
   "source": []
  },
  {
   "cell_type": "code",
   "execution_count": null,
   "id": "0a9cc6cc",
   "metadata": {},
   "outputs": [],
   "source": []
  },
  {
   "cell_type": "code",
   "execution_count": null,
   "id": "580e4581",
   "metadata": {},
   "outputs": [],
   "source": []
  }
 ],
 "metadata": {
  "kernelspec": {
   "display_name": "flask_env",
   "language": "python",
   "name": "python3"
  },
  "language_info": {
   "codemirror_mode": {
    "name": "ipython",
    "version": 3
   },
   "file_extension": ".py",
   "mimetype": "text/x-python",
   "name": "python",
   "nbconvert_exporter": "python",
   "pygments_lexer": "ipython3",
   "version": "3.12.0"
  }
 },
 "nbformat": 4,
 "nbformat_minor": 5
}
