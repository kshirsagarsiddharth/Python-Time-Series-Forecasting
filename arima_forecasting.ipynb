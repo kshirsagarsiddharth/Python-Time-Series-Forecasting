{
 "cells": [
  {
   "cell_type": "code",
   "execution_count": 84,
   "id": "d85f69cc",
   "metadata": {},
   "outputs": [],
   "source": [
    "# Libraries\n",
    "import pandas as pd\n",
    "import matplotlib.pyplot as plt\n",
    "from statsmodels.graphics.tsaplots import month_plot, quarter_plot\n",
    "from statsmodels.graphics.tsaplots import plot_acf, plot_pacf\n",
    "from statsmodels.tsa.seasonal import seasonal_decompose\n",
    "from sklearn.metrics import mean_absolute_error, root_mean_squared_error, mean_absolute_percentage_error\n",
    "from pmdarima import auto_arima, ARIMA, model_selection\n",
    "import numpy as np\n",
    "from sklearn.model_selection import ParameterGrid"
   ]
  },
  {
   "cell_type": "code",
   "execution_count": 85,
   "id": "3a7c42a7",
   "metadata": {},
   "outputs": [],
   "source": [
    "df = pd.read_csv(r'C:\\Users\\siddharth\\Desktop\\Python-Time-Series-Forecasting\\Python - Time Series Forecasting\\Time Series Analysis\\ARIMA, SARIMA and SARIMAX\\daily_revenue.csv')"
   ]
  },
  {
   "cell_type": "code",
   "execution_count": 86,
   "id": "f600c1d3",
   "metadata": {},
   "outputs": [
    {
     "data": {
      "application/vnd.microsoft.datawrangler.viewer.v0+json": {
       "columns": [
        {
         "name": "index",
         "rawType": "int64",
         "type": "integer"
        },
        {
         "name": "date",
         "rawType": "object",
         "type": "string"
        },
        {
         "name": "revenue",
         "rawType": "object",
         "type": "string"
        },
        {
         "name": "discount_rate",
         "rawType": "object",
         "type": "string"
        },
        {
         "name": "coupon_rate",
         "rawType": "object",
         "type": "string"
        }
       ],
       "ref": "3a48c3e2-3926-4b6b-a86a-4acd40e2e334",
       "rows": [
        [
         "0",
         "1/1/2018",
         "6,270,839",
         "34.27%",
         "1.09%"
        ],
        [
         "1",
         "2/1/2018",
         "8,922,076",
         "30.87%",
         "1.08%"
        ],
        [
         "2",
         "3/1/2018",
         "8,446,101",
         "28.11%",
         "1.01%"
        ],
        [
         "3",
         "4/1/2018",
         "7,785,798",
         "27.32%",
         "0.96%"
        ],
        [
         "4",
         "5/1/2018",
         "6,375,303",
         "25.70%",
         "0.90%"
        ],
        [
         "5",
         "6/1/2018",
         "6,095,418",
         "25.02%",
         "0.87%"
        ],
        [
         "6",
         "7/1/2018",
         "7,661,844",
         "25.33%",
         "1.06%"
        ],
        [
         "7",
         "8/1/2018",
         "7,036,112",
         "24.83%",
         "1.03%"
        ],
        [
         "8",
         "9/1/2018",
         "7,100,900",
         "25.11%",
         "1.00%"
        ],
        [
         "9",
         "10/1/2018",
         "7,148,865",
         "25.16%",
         "0.91%"
        ],
        [
         "10",
         "11/1/2018",
         "7,013,113",
         "26.55%",
         "0.90%"
        ],
        [
         "11",
         "12/1/2018",
         "6,094,297",
         "25.81%",
         "0.94%"
        ],
        [
         "12",
         "13/1/2018",
         "5,647,838",
         "23.46%",
         "0.93%"
        ],
        [
         "13",
         "14/1/2018",
         "7,377,005",
         "23.76%",
         "1.11%"
        ],
        [
         "14",
         "15/1/2018",
         "6,736,977",
         "24.39%",
         "0.99%"
        ],
        [
         "15",
         "16/1/2018",
         "7,194,062",
         "26.07%",
         "0.98%"
        ],
        [
         "16",
         "17/1/2018",
         "7,124,206",
         "24.64%",
         "0.93%"
        ],
        [
         "17",
         "18/1/2018",
         "6,670,106",
         "24.99%",
         "0.93%"
        ],
        [
         "18",
         "19/1/2018",
         "5,805,801",
         "25.60%",
         "0.98%"
        ],
        [
         "19",
         "20/1/2018",
         "5,792,547",
         "24.79%",
         "0.95%"
        ],
        [
         "20",
         "21/1/2018",
         "7,430,284",
         "23.32%",
         "1.07%"
        ],
        [
         "21",
         "22/1/2018",
         "6,538,657",
         "23.36%",
         "1.02%"
        ],
        [
         "22",
         "23/1/2018",
         "6,973,820",
         "27.27%",
         "1.05%"
        ],
        [
         "23",
         "24/1/2018",
         "6,555,452",
         "25.33%",
         "0.93%"
        ],
        [
         "24",
         "25/1/2018",
         "6,199,426",
         "25.37%",
         "0.92%"
        ],
        [
         "25",
         "26/1/2018",
         "7,464,262",
         "29.88%",
         "7.90%"
        ],
        [
         "26",
         "27/1/2018",
         "6,570,872",
         "26.94%",
         "6.65%"
        ],
        [
         "27",
         "28/1/2018",
         "9,382,441",
         "26.40%",
         "7.30%"
        ],
        [
         "28",
         "29/1/2018",
         "5,902,767",
         "20.10%",
         "0.95%"
        ],
        [
         "29",
         "30/1/2018",
         "6,047,600",
         "20.12%",
         "0.89%"
        ],
        [
         "30",
         "31/1/2018",
         "6,460,824",
         "20.34%",
         "0.91%"
        ],
        [
         "31",
         "1/2/2018",
         "6,108,498",
         "20.17%",
         "0.83%"
        ],
        [
         "32",
         "2/2/2018",
         "5,203,061",
         "19.23%",
         "0.85%"
        ],
        [
         "33",
         "3/2/2018",
         "5,445,384",
         "18.19%",
         "0.85%"
        ],
        [
         "34",
         "4/2/2018",
         "6,537,030",
         "14.86%",
         "1.01%"
        ],
        [
         "35",
         "5/2/2018",
         "6,024,455",
         "19.39%",
         "0.98%"
        ],
        [
         "36",
         "6/2/2018",
         "6,430,525",
         "19.23%",
         "0.91%"
        ],
        [
         "37",
         "7/2/2018",
         "5,934,381",
         "18.51%",
         "0.86%"
        ],
        [
         "38",
         "8/2/2018",
         "5,890,259",
         "22.04%",
         "0.90%"
        ],
        [
         "39",
         "9/2/2018",
         "5,648,454",
         "24.59%",
         "0.93%"
        ],
        [
         "40",
         "10/2/2018",
         "5,153,653",
         "21.47%",
         "0.92%"
        ],
        [
         "41",
         "11/2/2018",
         "6,477,649",
         "18.89%",
         "1.08%"
        ],
        [
         "42",
         "12/2/2018",
         "5,914,438",
         "19.79%",
         "1.11%"
        ],
        [
         "43",
         "13/2/2018",
         "5,975,411",
         "23.59%",
         "0.97%"
        ],
        [
         "44",
         "14/2/2018",
         "5,918,666",
         "20.16%",
         "0.93%"
        ],
        [
         "45",
         "15/2/2018",
         "6,468,033",
         "23.48%",
         "0.87%"
        ],
        [
         "46",
         "16/2/2018",
         "5,431,671",
         "23.00%",
         "0.86%"
        ],
        [
         "47",
         "17/2/2018",
         "5,788,163",
         "21.08%",
         "0.89%"
        ],
        [
         "48",
         "18/2/2018",
         "6,766,567",
         "17.84%",
         "1.01%"
        ],
        [
         "49",
         "19/2/2018",
         "6,225,450",
         "19.65%",
         "1.01%"
        ]
       ],
       "shape": {
        "columns": 4,
        "rows": 1795
       }
      },
      "text/html": [
       "<div>\n",
       "<style scoped>\n",
       "    .dataframe tbody tr th:only-of-type {\n",
       "        vertical-align: middle;\n",
       "    }\n",
       "\n",
       "    .dataframe tbody tr th {\n",
       "        vertical-align: top;\n",
       "    }\n",
       "\n",
       "    .dataframe thead th {\n",
       "        text-align: right;\n",
       "    }\n",
       "</style>\n",
       "<table border=\"1\" class=\"dataframe\">\n",
       "  <thead>\n",
       "    <tr style=\"text-align: right;\">\n",
       "      <th></th>\n",
       "      <th>date</th>\n",
       "      <th>revenue</th>\n",
       "      <th>discount_rate</th>\n",
       "      <th>coupon_rate</th>\n",
       "    </tr>\n",
       "  </thead>\n",
       "  <tbody>\n",
       "    <tr>\n",
       "      <th>0</th>\n",
       "      <td>1/1/2018</td>\n",
       "      <td>6,270,839</td>\n",
       "      <td>34.27%</td>\n",
       "      <td>1.09%</td>\n",
       "    </tr>\n",
       "    <tr>\n",
       "      <th>1</th>\n",
       "      <td>2/1/2018</td>\n",
       "      <td>8,922,076</td>\n",
       "      <td>30.87%</td>\n",
       "      <td>1.08%</td>\n",
       "    </tr>\n",
       "    <tr>\n",
       "      <th>2</th>\n",
       "      <td>3/1/2018</td>\n",
       "      <td>8,446,101</td>\n",
       "      <td>28.11%</td>\n",
       "      <td>1.01%</td>\n",
       "    </tr>\n",
       "    <tr>\n",
       "      <th>3</th>\n",
       "      <td>4/1/2018</td>\n",
       "      <td>7,785,798</td>\n",
       "      <td>27.32%</td>\n",
       "      <td>0.96%</td>\n",
       "    </tr>\n",
       "    <tr>\n",
       "      <th>4</th>\n",
       "      <td>5/1/2018</td>\n",
       "      <td>6,375,303</td>\n",
       "      <td>25.70%</td>\n",
       "      <td>0.90%</td>\n",
       "    </tr>\n",
       "    <tr>\n",
       "      <th>...</th>\n",
       "      <td>...</td>\n",
       "      <td>...</td>\n",
       "      <td>...</td>\n",
       "      <td>...</td>\n",
       "    </tr>\n",
       "    <tr>\n",
       "      <th>1790</th>\n",
       "      <td>26/11/2022</td>\n",
       "      <td>26,934,947</td>\n",
       "      <td>30.41%</td>\n",
       "      <td>0.38%</td>\n",
       "    </tr>\n",
       "    <tr>\n",
       "      <th>1791</th>\n",
       "      <td>27/11/2022</td>\n",
       "      <td>31,890,868</td>\n",
       "      <td>29.75%</td>\n",
       "      <td>0.35%</td>\n",
       "    </tr>\n",
       "    <tr>\n",
       "      <th>1792</th>\n",
       "      <td>28/11/2022</td>\n",
       "      <td>32,100,918</td>\n",
       "      <td>25.27%</td>\n",
       "      <td>8.93%</td>\n",
       "    </tr>\n",
       "    <tr>\n",
       "      <th>1793</th>\n",
       "      <td>29/11/2022</td>\n",
       "      <td>14,314,613</td>\n",
       "      <td>19.54%</td>\n",
       "      <td>0.26%</td>\n",
       "    </tr>\n",
       "    <tr>\n",
       "      <th>1794</th>\n",
       "      <td>30/11/2022</td>\n",
       "      <td>15,026,662</td>\n",
       "      <td>17.10%</td>\n",
       "      <td>0.32%</td>\n",
       "    </tr>\n",
       "  </tbody>\n",
       "</table>\n",
       "<p>1795 rows × 4 columns</p>\n",
       "</div>"
      ],
      "text/plain": [
       "            date     revenue discount_rate coupon_rate\n",
       "0       1/1/2018   6,270,839        34.27%       1.09%\n",
       "1       2/1/2018   8,922,076        30.87%       1.08%\n",
       "2       3/1/2018   8,446,101        28.11%       1.01%\n",
       "3       4/1/2018   7,785,798        27.32%       0.96%\n",
       "4       5/1/2018   6,375,303        25.70%       0.90%\n",
       "...          ...         ...           ...         ...\n",
       "1790  26/11/2022  26,934,947        30.41%       0.38%\n",
       "1791  27/11/2022  31,890,868        29.75%       0.35%\n",
       "1792  28/11/2022  32,100,918        25.27%       8.93%\n",
       "1793  29/11/2022  14,314,613        19.54%       0.26%\n",
       "1794  30/11/2022  15,026,662        17.10%       0.32%\n",
       "\n",
       "[1795 rows x 4 columns]"
      ]
     },
     "execution_count": 86,
     "metadata": {},
     "output_type": "execute_result"
    }
   ],
   "source": [
    "df"
   ]
  },
  {
   "cell_type": "code",
   "execution_count": 4,
   "id": "888684ab",
   "metadata": {},
   "outputs": [],
   "source": [
    "df.set_index('date', inplace=True)"
   ]
  },
  {
   "cell_type": "code",
   "execution_count": 5,
   "id": "35980bc3",
   "metadata": {},
   "outputs": [],
   "source": [
    "df = df.asfreq('D')"
   ]
  },
  {
   "cell_type": "code",
   "execution_count": 6,
   "id": "55b9322e",
   "metadata": {},
   "outputs": [],
   "source": [
    "df['revenue'] = df['revenue'].str.replace(\",\",\"\").astype(float)"
   ]
  },
  {
   "cell_type": "code",
   "execution_count": 7,
   "id": "932729f6",
   "metadata": {},
   "outputs": [],
   "source": [
    "df['discount_rate'] = df['discount_rate'].str.replace(\"%\",'').astype(float)\n",
    "df['coupon_rate'] = df['coupon_rate'].str.replace(\"%\",'').astype(float)"
   ]
  },
  {
   "cell_type": "code",
   "execution_count": 8,
   "id": "edde8fce",
   "metadata": {},
   "outputs": [],
   "source": [
    "df = df.rename(columns={'revenue':'y'})"
   ]
  },
  {
   "cell_type": "code",
   "execution_count": 9,
   "id": "746d54e1",
   "metadata": {},
   "outputs": [
    {
     "data": {
      "image/png": "[encoded data removed]",
      "text/plain": [
       "<Figure size 640x480 with 1 Axes>"
      ]
     },
     "metadata": {},
     "output_type": "display_data"
    }
   ],
   "source": [
    "# Daily revenues line plot\n",
    "df['y'].plot(title = 'Daily Revenues')\n",
    "plt.show()"
   ]
  },
  {
   "cell_type": "code",
   "execution_count": 10,
   "id": "3e48d696",
   "metadata": {},
   "outputs": [
    {
     "name": "stderr",
     "output_type": "stream",
     "text": [
      "C:\\Users\\siddharth\\AppData\\Local\\Temp\\ipykernel_5364\\2481325335.py:5: FutureWarning: 'M' is deprecated and will be removed in a future version, please use 'ME' instead.\n",
      "  month_plot(df['y'].resample('M').mean(),\n"
     ]
    },
    {
     "data": {
      "image/png": "[encoded data removed]",
      "text/plain": [
       "<Figure size 640x480 with 1 Axes>"
      ]
     },
     "metadata": {},
     "output_type": "display_data"
    }
   ],
   "source": [
    "# month_plot() - To visualize the average value for each month across multiple years in a time series\n",
    "# red lines - Represents the mean value for each month\n",
    "\n",
    "# Plotting the monthly seasonality of revenue values\n",
    "month_plot(df['y'].resample('M').mean(),\n",
    "           ylabel = 'Revenue')\n",
    "plt.show()"
   ]
  },
  {
   "cell_type": "code",
   "execution_count": 11,
   "id": "8e72f7c6",
   "metadata": {},
   "outputs": [
    {
     "name": "stderr",
     "output_type": "stream",
     "text": [
      "C:\\Users\\siddharth\\AppData\\Local\\Temp\\ipykernel_5364\\3193710253.py:6: FutureWarning: 'Q' is deprecated and will be removed in a future version, please use 'QE' instead.\n",
      "  quarter_plot(df['y'].resample('Q').mean(),\n"
     ]
    },
    {
     "data": {
      "image/png": "[encoded data removed]",
      "text/plain": [
       "<Figure size 640x480 with 1 Axes>"
      ]
     },
     "metadata": {},
     "output_type": "display_data"
    }
   ],
   "source": [
    "# quarter_plot() - To visualize seasonal patterns at a quarterly level.\n",
    "# Q1 (january, february, march), Q2 (april, may, june), Q3 (july, august, september), Q4 (october, november, december)\n",
    "\n",
    "# Plotting the quarterly seasonality of revenue values\n",
    "# .resample('Q') - to convert the time series data into quarterly seasonality\n",
    "quarter_plot(df['y'].resample('Q').mean(),\n",
    "           ylabel = 'Revenue')\n",
    "plt.show()"
   ]
  },
  {
   "cell_type": "code",
   "execution_count": 12,
   "id": "ffaa45ea",
   "metadata": {},
   "outputs": [
    {
     "data": {
      "image/png": "[encoded data removed]",
      "text/plain": [
       "<Figure size 1000x800 with 4 Axes>"
      ]
     },
     "metadata": {},
     "output_type": "display_data"
    }
   ],
   "source": [
    "# Seasonal Decomposition Plots for Revenue Data\n",
    "# Multiplicative model type, with daily seasonality (365 days)\n",
    "decomposition = seasonal_decompose(df['y'],\n",
    "                                   model = 'mul',\n",
    "                                   period = 365)\n",
    "fig = decomposition.plot()\n",
    "fig.set_size_inches(10,8)\n",
    "plt.show()"
   ]
  },
  {
   "cell_type": "code",
   "execution_count": 13,
   "id": "d8c80682",
   "metadata": {},
   "outputs": [
    {
     "data": {
      "image/png": "[encoded data removed]",
      "text/plain": [
       "<Figure size 1000x600 with 1 Axes>"
      ]
     },
     "metadata": {},
     "output_type": "display_data"
    }
   ],
   "source": [
    "# Plot the autocorrelation (ACF) of revenue values\n",
    "fig, ax = plt.subplots(figsize = (10,6))\n",
    "plot_acf(df['y'], lags = 100, ax = ax)\n",
    "plt.show()"
   ]
  },
  {
   "cell_type": "code",
   "execution_count": 14,
   "id": "1a4b70e5",
   "metadata": {},
   "outputs": [
    {
     "data": {
      "image/png": "[encoded data removed]",
      "text/plain": [
       "<Figure size 1000x600 with 1 Axes>"
      ]
     },
     "metadata": {},
     "output_type": "display_data"
    }
   ],
   "source": [
    "# Plot the partial autocorrelation (PACF) of revenue values\n",
    "fig, ax = plt.subplots(figsize = (10,6))\n",
    "plot_pacf(df['y'], lags = 100, ax = ax)\n",
    "plt.show()"
   ]
  },
  {
   "cell_type": "code",
   "execution_count": 15,
   "id": "dafb2935",
   "metadata": {},
   "outputs": [],
   "source": [
    "# null - time series is not stationary  "
   ]
  },
  {
   "cell_type": "code",
   "execution_count": 16,
   "id": "92be61bc",
   "metadata": {},
   "outputs": [
    {
     "name": "stdout",
     "output_type": "stream",
     "text": [
      "0.10190360862386139\n",
      "Evidence suggests that the time series is not stationary\n"
     ]
    }
   ],
   "source": [
    "from statsmodels.tsa.stattools import adfuller \n",
    "\n",
    "result = adfuller(df['y']) \n",
    "print(f\"{result[1]}\")\n",
    "\n",
    "if result[1] < 0.05: \n",
    "    print('Evidence Suggests that the time series is stationary') \n",
    "else: \n",
    "    print(\"Evidence suggests that the time series is not stationary\")"
   ]
  },
  {
   "cell_type": "code",
   "execution_count": 17,
   "id": "dd32da89",
   "metadata": {},
   "outputs": [],
   "source": [
    "df['y_diff'] = df['y'].diff().dropna()"
   ]
  },
  {
   "cell_type": "code",
   "execution_count": 18,
   "id": "74998a10",
   "metadata": {},
   "outputs": [
    {
     "data": {
      "application/vnd.microsoft.datawrangler.viewer.v0+json": {
       "columns": [
        {
         "name": "date",
         "rawType": "datetime64[ns]",
         "type": "datetime"
        },
        {
         "name": "y_diff",
         "rawType": "float64",
         "type": "float"
        }
       ],
       "ref": "5c15595f-0fd6-4ac8-84a0-1109b99b7c7e",
       "rows": [
        [
         "2018-01-01 00:00:00",
         null
        ],
        [
         "2018-01-02 00:00:00",
         "2651237.0"
        ],
        [
         "2018-01-03 00:00:00",
         "-475975.0"
        ],
        [
         "2018-01-04 00:00:00",
         "-660303.0"
        ],
        [
         "2018-01-05 00:00:00",
         "-1410495.0"
        ],
        [
         "2018-01-06 00:00:00",
         "-279885.0"
        ],
        [
         "2018-01-07 00:00:00",
         "1566426.0"
        ],
        [
         "2018-01-08 00:00:00",
         "-625732.0"
        ],
        [
         "2018-01-09 00:00:00",
         "64788.0"
        ],
        [
         "2018-01-10 00:00:00",
         "47965.0"
        ],
        [
         "2018-01-11 00:00:00",
         "-135752.0"
        ],
        [
         "2018-01-12 00:00:00",
         "-918816.0"
        ],
        [
         "2018-01-13 00:00:00",
         "-446459.0"
        ],
        [
         "2018-01-14 00:00:00",
         "1729167.0"
        ],
        [
         "2018-01-15 00:00:00",
         "-640028.0"
        ],
        [
         "2018-01-16 00:00:00",
         "457085.0"
        ],
        [
         "2018-01-17 00:00:00",
         "-69856.0"
        ],
        [
         "2018-01-18 00:00:00",
         "-454100.0"
        ],
        [
         "2018-01-19 00:00:00",
         "-864305.0"
        ],
        [
         "2018-01-20 00:00:00",
         "-13254.0"
        ],
        [
         "2018-01-21 00:00:00",
         "1637737.0"
        ],
        [
         "2018-01-22 00:00:00",
         "-891627.0"
        ],
        [
         "2018-01-23 00:00:00",
         "435163.0"
        ],
        [
         "2018-01-24 00:00:00",
         "-418368.0"
        ],
        [
         "2018-01-25 00:00:00",
         "-356026.0"
        ],
        [
         "2018-01-26 00:00:00",
         "1264836.0"
        ],
        [
         "2018-01-27 00:00:00",
         "-893390.0"
        ],
        [
         "2018-01-28 00:00:00",
         "2811569.0"
        ],
        [
         "2018-01-29 00:00:00",
         "-3479674.0"
        ],
        [
         "2018-01-30 00:00:00",
         "144833.0"
        ],
        [
         "2018-01-31 00:00:00",
         "413224.0"
        ],
        [
         "2018-02-01 00:00:00",
         "-352326.0"
        ],
        [
         "2018-02-02 00:00:00",
         "-905437.0"
        ],
        [
         "2018-02-03 00:00:00",
         "242323.0"
        ],
        [
         "2018-02-04 00:00:00",
         "1091646.0"
        ],
        [
         "2018-02-05 00:00:00",
         "-512575.0"
        ],
        [
         "2018-02-06 00:00:00",
         "406070.0"
        ],
        [
         "2018-02-07 00:00:00",
         "-496144.0"
        ],
        [
         "2018-02-08 00:00:00",
         "-44122.0"
        ],
        [
         "2018-02-09 00:00:00",
         "-241805.0"
        ],
        [
         "2018-02-10 00:00:00",
         "-494801.0"
        ],
        [
         "2018-02-11 00:00:00",
         "1323996.0"
        ],
        [
         "2018-02-12 00:00:00",
         "-563211.0"
        ],
        [
         "2018-02-13 00:00:00",
         "60973.0"
        ],
        [
         "2018-02-14 00:00:00",
         "-56745.0"
        ],
        [
         "2018-02-15 00:00:00",
         "549367.0"
        ],
        [
         "2018-02-16 00:00:00",
         "-1036362.0"
        ],
        [
         "2018-02-17 00:00:00",
         "356492.0"
        ],
        [
         "2018-02-18 00:00:00",
         "978404.0"
        ],
        [
         "2018-02-19 00:00:00",
         "-541117.0"
        ]
       ],
       "shape": {
        "columns": 1,
        "rows": 1795
       }
      },
      "text/plain": [
       "date\n",
       "2018-01-01           NaN\n",
       "2018-01-02     2651237.0\n",
       "2018-01-03     -475975.0\n",
       "2018-01-04     -660303.0\n",
       "2018-01-05    -1410495.0\n",
       "                 ...    \n",
       "2022-11-26   -39180777.0\n",
       "2022-11-27     4955921.0\n",
       "2022-11-28      210050.0\n",
       "2022-11-29   -17786305.0\n",
       "2022-11-30      712049.0\n",
       "Freq: D, Name: y_diff, Length: 1795, dtype: float64"
      ]
     },
     "execution_count": 18,
     "metadata": {},
     "output_type": "execute_result"
    }
   ],
   "source": [
    "df['y_diff']"
   ]
  },
  {
   "cell_type": "code",
   "execution_count": 19,
   "id": "bef0fa46",
   "metadata": {},
   "outputs": [
    {
     "data": {
      "image/png": "[encoded data removed]",
      "text/plain": [
       "<Figure size 1400x700 with 2 Axes>"
      ]
     },
     "metadata": {},
     "output_type": "display_data"
    }
   ],
   "source": [
    "# Plotting the original and differenced series\n",
    "# Set the size of the plot to 14 inches by 7 inches\n",
    "plt.figure(figsize=(14, 7))\n",
    "\n",
    "plt.subplot(2,1,1) \n",
    "plt.plot(df['y'], label = 'Original Series') \n",
    "plt.title('Original Time Series') \n",
    "plt.legend() \n",
    "\n",
    "\n",
    "plt.subplot(2,1,2)\n",
    "plt.plot(df['y_diff'], label = 'Differenced Series', color = 'orange')\n",
    "plt.title('Differenced Time Series') \n",
    "plt.legend() \n",
    "\n",
    "\n",
    "plt.tight_layout() \n",
    "plt.show()"
   ]
  },
  {
   "cell_type": "code",
   "execution_count": 20,
   "id": "b247ccd7",
   "metadata": {},
   "outputs": [
    {
     "name": "stdout",
     "output_type": "stream",
     "text": [
      "6.513792026815736e-24\n",
      "Evidence Suggests that the time series is stationary\n"
     ]
    }
   ],
   "source": [
    "result = adfuller(df['y_diff'].dropna()) \n",
    "print(f\"{result[1]}\")\n",
    "\n",
    "if result[1] < 0.05: \n",
    "    print('Evidence Suggests that the time series is stationary') \n",
    "else: \n",
    "    print(\"Evidence suggests that the time series is not stationary\")"
   ]
  },
  {
   "cell_type": "code",
   "execution_count": 21,
   "id": "08f730f9",
   "metadata": {},
   "outputs": [],
   "source": [
    "## ARIMA Model \n",
    "df = df.dropna()"
   ]
  },
  {
   "cell_type": "code",
   "execution_count": 22,
   "id": "accb2608",
   "metadata": {},
   "outputs": [
    {
     "data": {
      "application/vnd.microsoft.datawrangler.viewer.v0+json": {
       "columns": [
        {
         "name": "date",
         "rawType": "datetime64[ns]",
         "type": "datetime"
        },
        {
         "name": "y",
         "rawType": "float64",
         "type": "float"
        },
        {
         "name": "discount_rate",
         "rawType": "float64",
         "type": "float"
        },
        {
         "name": "coupon_rate",
         "rawType": "float64",
         "type": "float"
        },
        {
         "name": "y_diff",
         "rawType": "float64",
         "type": "float"
        }
       ],
       "ref": "d94edda9-e5d9-4549-a088-aeadcae04a82",
       "rows": [
        [
         "2018-01-02 00:00:00",
         "8922076.0",
         "30.87",
         "1.08",
         "2651237.0"
        ],
        [
         "2018-01-03 00:00:00",
         "8446101.0",
         "28.11",
         "1.01",
         "-475975.0"
        ],
        [
         "2018-01-04 00:00:00",
         "7785798.0",
         "27.32",
         "0.96",
         "-660303.0"
        ],
        [
         "2018-01-05 00:00:00",
         "6375303.0",
         "25.7",
         "0.9",
         "-1410495.0"
        ],
        [
         "2018-01-06 00:00:00",
         "6095418.0",
         "25.02",
         "0.87",
         "-279885.0"
        ],
        [
         "2018-01-07 00:00:00",
         "7661844.0",
         "25.33",
         "1.06",
         "1566426.0"
        ],
        [
         "2018-01-08 00:00:00",
         "7036112.0",
         "24.83",
         "1.03",
         "-625732.0"
        ],
        [
         "2018-01-09 00:00:00",
         "7100900.0",
         "25.11",
         "1.0",
         "64788.0"
        ],
        [
         "2018-01-10 00:00:00",
         "7148865.0",
         "25.16",
         "0.91",
         "47965.0"
        ],
        [
         "2018-01-11 00:00:00",
         "7013113.0",
         "26.55",
         "0.9",
         "-135752.0"
        ],
        [
         "2018-01-12 00:00:00",
         "6094297.0",
         "25.81",
         "0.94",
         "-918816.0"
        ],
        [
         "2018-01-13 00:00:00",
         "5647838.0",
         "23.46",
         "0.93",
         "-446459.0"
        ],
        [
         "2018-01-14 00:00:00",
         "7377005.0",
         "23.76",
         "1.11",
         "1729167.0"
        ],
        [
         "2018-01-15 00:00:00",
         "6736977.0",
         "24.39",
         "0.99",
         "-640028.0"
        ],
        [
         "2018-01-16 00:00:00",
         "7194062.0",
         "26.07",
         "0.98",
         "457085.0"
        ],
        [
         "2018-01-17 00:00:00",
         "7124206.0",
         "24.64",
         "0.93",
         "-69856.0"
        ],
        [
         "2018-01-18 00:00:00",
         "6670106.0",
         "24.99",
         "0.93",
         "-454100.0"
        ],
        [
         "2018-01-19 00:00:00",
         "5805801.0",
         "25.6",
         "0.98",
         "-864305.0"
        ],
        [
         "2018-01-20 00:00:00",
         "5792547.0",
         "24.79",
         "0.95",
         "-13254.0"
        ],
        [
         "2018-01-21 00:00:00",
         "7430284.0",
         "23.32",
         "1.07",
         "1637737.0"
        ],
        [
         "2018-01-22 00:00:00",
         "6538657.0",
         "23.36",
         "1.02",
         "-891627.0"
        ],
        [
         "2018-01-23 00:00:00",
         "6973820.0",
         "27.27",
         "1.05",
         "435163.0"
        ],
        [
         "2018-01-24 00:00:00",
         "6555452.0",
         "25.33",
         "0.93",
         "-418368.0"
        ],
        [
         "2018-01-25 00:00:00",
         "6199426.0",
         "25.37",
         "0.92",
         "-356026.0"
        ],
        [
         "2018-01-26 00:00:00",
         "7464262.0",
         "29.88",
         "7.9",
         "1264836.0"
        ],
        [
         "2018-01-27 00:00:00",
         "6570872.0",
         "26.94",
         "6.65",
         "-893390.0"
        ],
        [
         "2018-01-28 00:00:00",
         "9382441.0",
         "26.4",
         "7.3",
         "2811569.0"
        ],
        [
         "2018-01-29 00:00:00",
         "5902767.0",
         "20.1",
         "0.95",
         "-3479674.0"
        ],
        [
         "2018-01-30 00:00:00",
         "6047600.0",
         "20.12",
         "0.89",
         "144833.0"
        ],
        [
         "2018-01-31 00:00:00",
         "6460824.0",
         "20.34",
         "0.91",
         "413224.0"
        ],
        [
         "2018-02-01 00:00:00",
         "6108498.0",
         "20.17",
         "0.83",
         "-352326.0"
        ],
        [
         "2018-02-02 00:00:00",
         "5203061.0",
         "19.23",
         "0.85",
         "-905437.0"
        ],
        [
         "2018-02-03 00:00:00",
         "5445384.0",
         "18.19",
         "0.85",
         "242323.0"
        ],
        [
         "2018-02-04 00:00:00",
         "6537030.0",
         "14.86",
         "1.01",
         "1091646.0"
        ],
        [
         "2018-02-05 00:00:00",
         "6024455.0",
         "19.39",
         "0.98",
         "-512575.0"
        ],
        [
         "2018-02-06 00:00:00",
         "6430525.0",
         "19.23",
         "0.91",
         "406070.0"
        ],
        [
         "2018-02-07 00:00:00",
         "5934381.0",
         "18.51",
         "0.86",
         "-496144.0"
        ],
        [
         "2018-02-08 00:00:00",
         "5890259.0",
         "22.04",
         "0.9",
         "-44122.0"
        ],
        [
         "2018-02-09 00:00:00",
         "5648454.0",
         "24.59",
         "0.93",
         "-241805.0"
        ],
        [
         "2018-02-10 00:00:00",
         "5153653.0",
         "21.47",
         "0.92",
         "-494801.0"
        ],
        [
         "2018-02-11 00:00:00",
         "6477649.0",
         "18.89",
         "1.08",
         "1323996.0"
        ],
        [
         "2018-02-12 00:00:00",
         "5914438.0",
         "19.79",
         "1.11",
         "-563211.0"
        ],
        [
         "2018-02-13 00:00:00",
         "5975411.0",
         "23.59",
         "0.97",
         "60973.0"
        ],
        [
         "2018-02-14 00:00:00",
         "5918666.0",
         "20.16",
         "0.93",
         "-56745.0"
        ],
        [
         "2018-02-15 00:00:00",
         "6468033.0",
         "23.48",
         "0.87",
         "549367.0"
        ],
        [
         "2018-02-16 00:00:00",
         "5431671.0",
         "23.0",
         "0.86",
         "-1036362.0"
        ],
        [
         "2018-02-17 00:00:00",
         "5788163.0",
         "21.08",
         "0.89",
         "356492.0"
        ],
        [
         "2018-02-18 00:00:00",
         "6766567.0",
         "17.84",
         "1.01",
         "978404.0"
        ],
        [
         "2018-02-19 00:00:00",
         "6225450.0",
         "19.65",
         "1.01",
         "-541117.0"
        ],
        [
         "2018-02-20 00:00:00",
         "6278211.0",
         "18.91",
         "0.92",
         "52761.0"
        ]
       ],
       "shape": {
        "columns": 4,
        "rows": 1794
       }
      },
      "text/html": [
       "<div>\n",
       "<style scoped>\n",
       "    .dataframe tbody tr th:only-of-type {\n",
       "        vertical-align: middle;\n",
       "    }\n",
       "\n",
       "    .dataframe tbody tr th {\n",
       "        vertical-align: top;\n",
       "    }\n",
       "\n",
       "    .dataframe thead th {\n",
       "        text-align: right;\n",
       "    }\n",
       "</style>\n",
       "<table border=\"1\" class=\"dataframe\">\n",
       "  <thead>\n",
       "    <tr style=\"text-align: right;\">\n",
       "      <th></th>\n",
       "      <th>y</th>\n",
       "      <th>discount_rate</th>\n",
       "      <th>coupon_rate</th>\n",
       "      <th>y_diff</th>\n",
       "    </tr>\n",
       "    <tr>\n",
       "      <th>date</th>\n",
       "      <th></th>\n",
       "      <th></th>\n",
       "      <th></th>\n",
       "      <th></th>\n",
       "    </tr>\n",
       "  </thead>\n",
       "  <tbody>\n",
       "    <tr>\n",
       "      <th>2018-01-02</th>\n",
       "      <td>8922076.0</td>\n",
       "      <td>30.87</td>\n",
       "      <td>1.08</td>\n",
       "      <td>2651237.0</td>\n",
       "    </tr>\n",
       "    <tr>\n",
       "      <th>2018-01-03</th>\n",
       "      <td>8446101.0</td>\n",
       "      <td>28.11</td>\n",
       "      <td>1.01</td>\n",
       "      <td>-475975.0</td>\n",
       "    </tr>\n",
       "    <tr>\n",
       "      <th>2018-01-04</th>\n",
       "      <td>7785798.0</td>\n",
       "      <td>27.32</td>\n",
       "      <td>0.96</td>\n",
       "      <td>-660303.0</td>\n",
       "    </tr>\n",
       "    <tr>\n",
       "      <th>2018-01-05</th>\n",
       "      <td>6375303.0</td>\n",
       "      <td>25.70</td>\n",
       "      <td>0.90</td>\n",
       "      <td>-1410495.0</td>\n",
       "    </tr>\n",
       "    <tr>\n",
       "      <th>2018-01-06</th>\n",
       "      <td>6095418.0</td>\n",
       "      <td>25.02</td>\n",
       "      <td>0.87</td>\n",
       "      <td>-279885.0</td>\n",
       "    </tr>\n",
       "    <tr>\n",
       "      <th>...</th>\n",
       "      <td>...</td>\n",
       "      <td>...</td>\n",
       "      <td>...</td>\n",
       "      <td>...</td>\n",
       "    </tr>\n",
       "    <tr>\n",
       "      <th>2022-11-26</th>\n",
       "      <td>26934947.0</td>\n",
       "      <td>30.41</td>\n",
       "      <td>0.38</td>\n",
       "      <td>-39180777.0</td>\n",
       "    </tr>\n",
       "    <tr>\n",
       "      <th>2022-11-27</th>\n",
       "      <td>31890868.0</td>\n",
       "      <td>29.75</td>\n",
       "      <td>0.35</td>\n",
       "      <td>4955921.0</td>\n",
       "    </tr>\n",
       "    <tr>\n",
       "      <th>2022-11-28</th>\n",
       "      <td>32100918.0</td>\n",
       "      <td>25.27</td>\n",
       "      <td>8.93</td>\n",
       "      <td>210050.0</td>\n",
       "    </tr>\n",
       "    <tr>\n",
       "      <th>2022-11-29</th>\n",
       "      <td>14314613.0</td>\n",
       "      <td>19.54</td>\n",
       "      <td>0.26</td>\n",
       "      <td>-17786305.0</td>\n",
       "    </tr>\n",
       "    <tr>\n",
       "      <th>2022-11-30</th>\n",
       "      <td>15026662.0</td>\n",
       "      <td>17.10</td>\n",
       "      <td>0.32</td>\n",
       "      <td>712049.0</td>\n",
       "    </tr>\n",
       "  </tbody>\n",
       "</table>\n",
       "<p>1794 rows × 4 columns</p>\n",
       "</div>"
      ],
      "text/plain": [
       "                     y  discount_rate  coupon_rate      y_diff\n",
       "date                                                          \n",
       "2018-01-02   8922076.0          30.87         1.08   2651237.0\n",
       "2018-01-03   8446101.0          28.11         1.01   -475975.0\n",
       "2018-01-04   7785798.0          27.32         0.96   -660303.0\n",
       "2018-01-05   6375303.0          25.70         0.90  -1410495.0\n",
       "2018-01-06   6095418.0          25.02         0.87   -279885.0\n",
       "...                ...            ...          ...         ...\n",
       "2022-11-26  26934947.0          30.41         0.38 -39180777.0\n",
       "2022-11-27  31890868.0          29.75         0.35   4955921.0\n",
       "2022-11-28  32100918.0          25.27         8.93    210050.0\n",
       "2022-11-29  14314613.0          19.54         0.26 -17786305.0\n",
       "2022-11-30  15026662.0          17.10         0.32    712049.0\n",
       "\n",
       "[1794 rows x 4 columns]"
      ]
     },
     "execution_count": 22,
     "metadata": {},
     "output_type": "execute_result"
    }
   ],
   "source": [
    "df"
   ]
  },
  {
   "cell_type": "code",
   "execution_count": 23,
   "id": "8f1cbd0e",
   "metadata": {},
   "outputs": [],
   "source": [
    "# Split the data into training and test \n",
    "\n",
    "test_days = 30 \n",
    "train, test = df.iloc[:-test_days], df.iloc[-test_days:] "
   ]
  },
  {
   "cell_type": "code",
   "execution_count": 24,
   "id": "97af428f",
   "metadata": {},
   "outputs": [
    {
     "name": "stderr",
     "output_type": "stream",
     "text": [
      "c:\\Work\\MLOps\\flask_env\\Lib\\site-packages\\sklearn\\utils\\deprecation.py:151: FutureWarning: 'force_all_finite' was renamed to 'ensure_all_finite' in 1.6 and will be removed in 1.8.\n",
      "  warnings.warn(\n",
      "c:\\Work\\MLOps\\flask_env\\Lib\\site-packages\\sklearn\\utils\\deprecation.py:151: FutureWarning: 'force_all_finite' was renamed to 'ensure_all_finite' in 1.6 and will be removed in 1.8.\n",
      "  warnings.warn(\n",
      "c:\\Work\\MLOps\\flask_env\\Lib\\site-packages\\sklearn\\utils\\deprecation.py:151: FutureWarning: 'force_all_finite' was renamed to 'ensure_all_finite' in 1.6 and will be removed in 1.8.\n",
      "  warnings.warn(\n",
      "c:\\Work\\MLOps\\flask_env\\Lib\\site-packages\\sklearn\\utils\\deprecation.py:151: FutureWarning: 'force_all_finite' was renamed to 'ensure_all_finite' in 1.6 and will be removed in 1.8.\n",
      "  warnings.warn(\n",
      "c:\\Work\\MLOps\\flask_env\\Lib\\site-packages\\sklearn\\utils\\deprecation.py:151: FutureWarning: 'force_all_finite' was renamed to 'ensure_all_finite' in 1.6 and will be removed in 1.8.\n",
      "  warnings.warn(\n",
      "c:\\Work\\MLOps\\flask_env\\Lib\\site-packages\\sklearn\\utils\\deprecation.py:151: FutureWarning: 'force_all_finite' was renamed to 'ensure_all_finite' in 1.6 and will be removed in 1.8.\n",
      "  warnings.warn(\n",
      "c:\\Work\\MLOps\\flask_env\\Lib\\site-packages\\sklearn\\utils\\deprecation.py:151: FutureWarning: 'force_all_finite' was renamed to 'ensure_all_finite' in 1.6 and will be removed in 1.8.\n",
      "  warnings.warn(\n",
      "c:\\Work\\MLOps\\flask_env\\Lib\\site-packages\\sklearn\\utils\\deprecation.py:151: FutureWarning: 'force_all_finite' was renamed to 'ensure_all_finite' in 1.6 and will be removed in 1.8.\n",
      "  warnings.warn(\n",
      "c:\\Work\\MLOps\\flask_env\\Lib\\site-packages\\sklearn\\utils\\deprecation.py:151: FutureWarning: 'force_all_finite' was renamed to 'ensure_all_finite' in 1.6 and will be removed in 1.8.\n",
      "  warnings.warn(\n",
      "c:\\Work\\MLOps\\flask_env\\Lib\\site-packages\\sklearn\\utils\\deprecation.py:151: FutureWarning: 'force_all_finite' was renamed to 'ensure_all_finite' in 1.6 and will be removed in 1.8.\n",
      "  warnings.warn(\n",
      "c:\\Work\\MLOps\\flask_env\\Lib\\site-packages\\sklearn\\utils\\deprecation.py:151: FutureWarning: 'force_all_finite' was renamed to 'ensure_all_finite' in 1.6 and will be removed in 1.8.\n",
      "  warnings.warn(\n",
      "c:\\Work\\MLOps\\flask_env\\Lib\\site-packages\\sklearn\\utils\\deprecation.py:151: FutureWarning: 'force_all_finite' was renamed to 'ensure_all_finite' in 1.6 and will be removed in 1.8.\n",
      "  warnings.warn(\n",
      "c:\\Work\\MLOps\\flask_env\\Lib\\site-packages\\sklearn\\utils\\deprecation.py:151: FutureWarning: 'force_all_finite' was renamed to 'ensure_all_finite' in 1.6 and will be removed in 1.8.\n",
      "  warnings.warn(\n",
      "c:\\Work\\MLOps\\flask_env\\Lib\\site-packages\\sklearn\\utils\\deprecation.py:151: FutureWarning: 'force_all_finite' was renamed to 'ensure_all_finite' in 1.6 and will be removed in 1.8.\n",
      "  warnings.warn(\n",
      "c:\\Work\\MLOps\\flask_env\\Lib\\site-packages\\sklearn\\utils\\deprecation.py:151: FutureWarning: 'force_all_finite' was renamed to 'ensure_all_finite' in 1.6 and will be removed in 1.8.\n",
      "  warnings.warn(\n",
      "c:\\Work\\MLOps\\flask_env\\Lib\\site-packages\\sklearn\\utils\\deprecation.py:151: FutureWarning: 'force_all_finite' was renamed to 'ensure_all_finite' in 1.6 and will be removed in 1.8.\n",
      "  warnings.warn(\n",
      "c:\\Work\\MLOps\\flask_env\\Lib\\site-packages\\sklearn\\utils\\deprecation.py:151: FutureWarning: 'force_all_finite' was renamed to 'ensure_all_finite' in 1.6 and will be removed in 1.8.\n",
      "  warnings.warn(\n",
      "c:\\Work\\MLOps\\flask_env\\Lib\\site-packages\\sklearn\\utils\\deprecation.py:151: FutureWarning: 'force_all_finite' was renamed to 'ensure_all_finite' in 1.6 and will be removed in 1.8.\n",
      "  warnings.warn(\n",
      "c:\\Work\\MLOps\\flask_env\\Lib\\site-packages\\sklearn\\utils\\deprecation.py:151: FutureWarning: 'force_all_finite' was renamed to 'ensure_all_finite' in 1.6 and will be removed in 1.8.\n",
      "  warnings.warn(\n",
      "c:\\Work\\MLOps\\flask_env\\Lib\\site-packages\\sklearn\\utils\\deprecation.py:151: FutureWarning: 'force_all_finite' was renamed to 'ensure_all_finite' in 1.6 and will be removed in 1.8.\n",
      "  warnings.warn(\n",
      "c:\\Work\\MLOps\\flask_env\\Lib\\site-packages\\sklearn\\utils\\deprecation.py:151: FutureWarning: 'force_all_finite' was renamed to 'ensure_all_finite' in 1.6 and will be removed in 1.8.\n",
      "  warnings.warn(\n",
      "c:\\Work\\MLOps\\flask_env\\Lib\\site-packages\\sklearn\\utils\\deprecation.py:151: FutureWarning: 'force_all_finite' was renamed to 'ensure_all_finite' in 1.6 and will be removed in 1.8.\n",
      "  warnings.warn(\n",
      "c:\\Work\\MLOps\\flask_env\\Lib\\site-packages\\sklearn\\utils\\deprecation.py:151: FutureWarning: 'force_all_finite' was renamed to 'ensure_all_finite' in 1.6 and will be removed in 1.8.\n",
      "  warnings.warn(\n",
      "c:\\Work\\MLOps\\flask_env\\Lib\\site-packages\\sklearn\\utils\\deprecation.py:151: FutureWarning: 'force_all_finite' was renamed to 'ensure_all_finite' in 1.6 and will be removed in 1.8.\n",
      "  warnings.warn(\n",
      "c:\\Work\\MLOps\\flask_env\\Lib\\site-packages\\sklearn\\utils\\deprecation.py:151: FutureWarning: 'force_all_finite' was renamed to 'ensure_all_finite' in 1.6 and will be removed in 1.8.\n",
      "  warnings.warn(\n",
      "c:\\Work\\MLOps\\flask_env\\Lib\\site-packages\\sklearn\\utils\\deprecation.py:151: FutureWarning: 'force_all_finite' was renamed to 'ensure_all_finite' in 1.6 and will be removed in 1.8.\n",
      "  warnings.warn(\n",
      "c:\\Work\\MLOps\\flask_env\\Lib\\site-packages\\sklearn\\utils\\deprecation.py:151: FutureWarning: 'force_all_finite' was renamed to 'ensure_all_finite' in 1.6 and will be removed in 1.8.\n",
      "  warnings.warn(\n",
      "c:\\Work\\MLOps\\flask_env\\Lib\\site-packages\\sklearn\\utils\\deprecation.py:151: FutureWarning: 'force_all_finite' was renamed to 'ensure_all_finite' in 1.6 and will be removed in 1.8.\n",
      "  warnings.warn(\n",
      "c:\\Work\\MLOps\\flask_env\\Lib\\site-packages\\sklearn\\utils\\deprecation.py:151: FutureWarning: 'force_all_finite' was renamed to 'ensure_all_finite' in 1.6 and will be removed in 1.8.\n",
      "  warnings.warn(\n"
     ]
    }
   ],
   "source": [
    "model = auto_arima(train['y'], seasonal=False)"
   ]
  },
  {
   "cell_type": "code",
   "execution_count": 25,
   "id": "fc4128d6",
   "metadata": {},
   "outputs": [
    {
     "data": {
      "text/html": [
       "<table class=\"simpletable\">\n",
       "<caption>SARIMAX Results</caption>\n",
       "<tr>\n",
       "  <th>Dep. Variable:</th>           <td>y</td>        <th>  No. Observations:  </th>    <td>1764</td>   \n",
       "</tr>\n",
       "<tr>\n",
       "  <th>Model:</th>           <td>SARIMAX(5, 1, 2)</td> <th>  Log Likelihood     </th> <td>-28800.439</td>\n",
       "</tr>\n",
       "<tr>\n",
       "  <th>Date:</th>            <td>Tue, 10 Jun 2025</td> <th>  AIC                </th>  <td>57616.879</td>\n",
       "</tr>\n",
       "<tr>\n",
       "  <th>Time:</th>                <td>15:32:34</td>     <th>  BIC                </th>  <td>57660.677</td>\n",
       "</tr>\n",
       "<tr>\n",
       "  <th>Sample:</th>             <td>01-02-2018</td>    <th>  HQIC               </th>  <td>57633.063</td>\n",
       "</tr>\n",
       "<tr>\n",
       "  <th></th>                   <td>- 10-31-2022</td>   <th>                     </th>      <td> </td>    \n",
       "</tr>\n",
       "<tr>\n",
       "  <th>Covariance Type:</th>        <td>opg</td>       <th>                     </th>      <td> </td>    \n",
       "</tr>\n",
       "</table>\n",
       "<table class=\"simpletable\">\n",
       "<tr>\n",
       "     <td></td>       <th>coef</th>     <th>std err</th>      <th>z</th>      <th>P>|z|</th>  <th>[0.025</th>    <th>0.975]</th>  \n",
       "</tr>\n",
       "<tr>\n",
       "  <th>ar.L1</th>  <td>   -0.4133</td> <td>    0.120</td> <td>   -3.438</td> <td> 0.001</td> <td>   -0.649</td> <td>   -0.178</td>\n",
       "</tr>\n",
       "<tr>\n",
       "  <th>ar.L2</th>  <td>    0.3017</td> <td>    0.053</td> <td>    5.666</td> <td> 0.000</td> <td>    0.197</td> <td>    0.406</td>\n",
       "</tr>\n",
       "<tr>\n",
       "  <th>ar.L3</th>  <td>    0.1574</td> <td>    0.028</td> <td>    5.719</td> <td> 0.000</td> <td>    0.103</td> <td>    0.211</td>\n",
       "</tr>\n",
       "<tr>\n",
       "  <th>ar.L4</th>  <td>    0.0686</td> <td>    0.029</td> <td>    2.384</td> <td> 0.017</td> <td>    0.012</td> <td>    0.125</td>\n",
       "</tr>\n",
       "<tr>\n",
       "  <th>ar.L5</th>  <td>    0.0475</td> <td>    0.024</td> <td>    1.976</td> <td> 0.048</td> <td>    0.000</td> <td>    0.095</td>\n",
       "</tr>\n",
       "<tr>\n",
       "  <th>ma.L1</th>  <td>   -0.1607</td> <td>    0.118</td> <td>   -1.358</td> <td> 0.174</td> <td>   -0.393</td> <td>    0.071</td>\n",
       "</tr>\n",
       "<tr>\n",
       "  <th>ma.L2</th>  <td>   -0.7418</td> <td>    0.108</td> <td>   -6.845</td> <td> 0.000</td> <td>   -0.954</td> <td>   -0.529</td>\n",
       "</tr>\n",
       "<tr>\n",
       "  <th>sigma2</th> <td> 9.089e+12</td> <td> 1.82e-14</td> <td> 4.99e+26</td> <td> 0.000</td> <td> 9.09e+12</td> <td> 9.09e+12</td>\n",
       "</tr>\n",
       "</table>\n",
       "<table class=\"simpletable\">\n",
       "<tr>\n",
       "  <th>Ljung-Box (L1) (Q):</th>     <td>0.00</td> <th>  Jarque-Bera (JB):  </th> <td>582707.14</td>\n",
       "</tr>\n",
       "<tr>\n",
       "  <th>Prob(Q):</th>                <td>0.97</td> <th>  Prob(JB):          </th>   <td>0.00</td>   \n",
       "</tr>\n",
       "<tr>\n",
       "  <th>Heteroskedasticity (H):</th> <td>3.07</td> <th>  Skew:              </th>   <td>5.16</td>   \n",
       "</tr>\n",
       "<tr>\n",
       "  <th>Prob(H) (two-sided):</th>    <td>0.00</td> <th>  Kurtosis:          </th>   <td>91.46</td>  \n",
       "</tr>\n",
       "</table><br/><br/>Warnings:<br/>[1] Covariance matrix calculated using the outer product of gradients (complex-step).<br/>[2] Covariance matrix is singular or near-singular, with condition number 1.76e+42. Standard errors may be unstable."
      ],
      "text/latex": [
       "\\begin{center}\n",
       "\\begin{tabular}{lclc}\n",
       "\\toprule\n",
       "\\textbf{Dep. Variable:}          &        y         & \\textbf{  No. Observations:  } &    1764     \\\\\n",
       "\\textbf{Model:}                  & SARIMAX(5, 1, 2) & \\textbf{  Log Likelihood     } & -28800.439  \\\\\n",
       "\\textbf{Date:}                   & Tue, 10 Jun 2025 & \\textbf{  AIC                } & 57616.879   \\\\\n",
       "\\textbf{Time:}                   &     15:32:34     & \\textbf{  BIC                } & 57660.677   \\\\\n",
       "\\textbf{Sample:}                 &    01-02-2018    & \\textbf{  HQIC               } & 57633.063   \\\\\n",
       "\\textbf{}                        &   - 10-31-2022   & \\textbf{                     } &             \\\\\n",
       "\\textbf{Covariance Type:}        &       opg        & \\textbf{                     } &             \\\\\n",
       "\\bottomrule\n",
       "\\end{tabular}\n",
       "\\begin{tabular}{lcccccc}\n",
       "                & \\textbf{coef} & \\textbf{std err} & \\textbf{z} & \\textbf{P$> |$z$|$} & \\textbf{[0.025} & \\textbf{0.975]}  \\\\\n",
       "\\midrule\n",
       "\\textbf{ar.L1}  &      -0.4133  &        0.120     &    -3.438  &         0.001        &       -0.649    &       -0.178     \\\\\n",
       "\\textbf{ar.L2}  &       0.3017  &        0.053     &     5.666  &         0.000        &        0.197    &        0.406     \\\\\n",
       "\\textbf{ar.L3}  &       0.1574  &        0.028     &     5.719  &         0.000        &        0.103    &        0.211     \\\\\n",
       "\\textbf{ar.L4}  &       0.0686  &        0.029     &     2.384  &         0.017        &        0.012    &        0.125     \\\\\n",
       "\\textbf{ar.L5}  &       0.0475  &        0.024     &     1.976  &         0.048        &        0.000    &        0.095     \\\\\n",
       "\\textbf{ma.L1}  &      -0.1607  &        0.118     &    -1.358  &         0.174        &       -0.393    &        0.071     \\\\\n",
       "\\textbf{ma.L2}  &      -0.7418  &        0.108     &    -6.845  &         0.000        &       -0.954    &       -0.529     \\\\\n",
       "\\textbf{sigma2} &    9.089e+12  &     1.82e-14     &  4.99e+26  &         0.000        &     9.09e+12    &     9.09e+12     \\\\\n",
       "\\bottomrule\n",
       "\\end{tabular}\n",
       "\\begin{tabular}{lclc}\n",
       "\\textbf{Ljung-Box (L1) (Q):}     & 0.00 & \\textbf{  Jarque-Bera (JB):  } & 582707.14  \\\\\n",
       "\\textbf{Prob(Q):}                & 0.97 & \\textbf{  Prob(JB):          } &    0.00    \\\\\n",
       "\\textbf{Heteroskedasticity (H):} & 3.07 & \\textbf{  Skew:              } &    5.16    \\\\\n",
       "\\textbf{Prob(H) (two-sided):}    & 0.00 & \\textbf{  Kurtosis:          } &   91.46    \\\\\n",
       "\\bottomrule\n",
       "\\end{tabular}\n",
       "%\\caption{SARIMAX Results}\n",
       "\\end{center}\n",
       "\n",
       "Warnings: \\newline\n",
       " [1] Covariance matrix calculated using the outer product of gradients (complex-step). \\newline\n",
       " [2] Covariance matrix is singular or near-singular, with condition number 1.76e+42. Standard errors may be unstable."
      ],
      "text/plain": [
       "<class 'statsmodels.iolib.summary.Summary'>\n",
       "\"\"\"\n",
       "                               SARIMAX Results                                \n",
       "==============================================================================\n",
       "Dep. Variable:                      y   No. Observations:                 1764\n",
       "Model:               SARIMAX(5, 1, 2)   Log Likelihood              -28800.439\n",
       "Date:                Tue, 10 Jun 2025   AIC                          57616.879\n",
       "Time:                        15:32:34   BIC                          57660.677\n",
       "Sample:                    01-02-2018   HQIC                         57633.063\n",
       "                         - 10-31-2022                                         \n",
       "Covariance Type:                  opg                                         \n",
       "==============================================================================\n",
       "                 coef    std err          z      P>|z|      [0.025      0.975]\n",
       "------------------------------------------------------------------------------\n",
       "ar.L1         -0.4133      0.120     -3.438      0.001      -0.649      -0.178\n",
       "ar.L2          0.3017      0.053      5.666      0.000       0.197       0.406\n",
       "ar.L3          0.1574      0.028      5.719      0.000       0.103       0.211\n",
       "ar.L4          0.0686      0.029      2.384      0.017       0.012       0.125\n",
       "ar.L5          0.0475      0.024      1.976      0.048       0.000       0.095\n",
       "ma.L1         -0.1607      0.118     -1.358      0.174      -0.393       0.071\n",
       "ma.L2         -0.7418      0.108     -6.845      0.000      -0.954      -0.529\n",
       "sigma2      9.089e+12   1.82e-14   4.99e+26      0.000    9.09e+12    9.09e+12\n",
       "===================================================================================\n",
       "Ljung-Box (L1) (Q):                   0.00   Jarque-Bera (JB):            582707.14\n",
       "Prob(Q):                              0.97   Prob(JB):                         0.00\n",
       "Heteroskedasticity (H):               3.07   Skew:                             5.16\n",
       "Prob(H) (two-sided):                  0.00   Kurtosis:                        91.46\n",
       "===================================================================================\n",
       "\n",
       "Warnings:\n",
       "[1] Covariance matrix calculated using the outer product of gradients (complex-step).\n",
       "[2] Covariance matrix is singular or near-singular, with condition number 1.76e+42. Standard errors may be unstable.\n",
       "\"\"\""
      ]
     },
     "execution_count": 25,
     "metadata": {},
     "output_type": "execute_result"
    }
   ],
   "source": [
    "model.summary()\n"
   ]
  },
  {
   "cell_type": "code",
   "execution_count": 26,
   "id": "0bc2b6b3",
   "metadata": {},
   "outputs": [
    {
     "name": "stderr",
     "output_type": "stream",
     "text": [
      "c:\\Work\\MLOps\\flask_env\\Lib\\site-packages\\sklearn\\utils\\deprecation.py:151: FutureWarning: 'force_all_finite' was renamed to 'ensure_all_finite' in 1.6 and will be removed in 1.8.\n",
      "  warnings.warn(\n"
     ]
    },
    {
     "data": {
      "text/plain": [
       "(30,)"
      ]
     },
     "execution_count": 26,
     "metadata": {},
     "output_type": "execute_result"
    }
   ],
   "source": [
    "predictions_arima = model.predict(n_periods=len(test)) \n",
    "predictions_arima.shape"
   ]
  },
  {
   "cell_type": "code",
   "execution_count": 27,
   "id": "f38c2f42",
   "metadata": {},
   "outputs": [
    {
     "data": {
      "text/plain": [
       "(30, 4)"
      ]
     },
     "execution_count": 27,
     "metadata": {},
     "output_type": "execute_result"
    }
   ],
   "source": [
    "test.shape"
   ]
  },
  {
   "cell_type": "code",
   "execution_count": 28,
   "id": "008468e9",
   "metadata": {},
   "outputs": [],
   "source": [
    "# Function to assess model and visualize output\n",
    "def model_assessment(train, test, predictions, chart_title):\n",
    "  # Set the size of the plot to 10 inches by 4 inches\n",
    "  plt.figure(figsize = (10,4))\n",
    "  # Plot the train, test, and forecast data\n",
    "  plt.plot(train, label = 'Train')\n",
    "  plt.plot(test, label = 'Test')\n",
    "  plt.plot(predictions, label = \"Forecast\")\n",
    "  # add title and legend to the plot\n",
    "  plt.title(f\"Train, Test and Predictions with {chart_title}\")\n",
    "  plt.legend()\n",
    "  plt.show()\n",
    "\n",
    "  # Calculating the MAE, RMSE, and MAPE\n",
    "  mae = mean_absolute_error(test, predictions)\n",
    "  rmse = root_mean_squared_error(test, predictions)\n",
    "  mape = mean_absolute_percentage_error(test, predictions)\n",
    "\n",
    "  # Print the calculated error metrics\n",
    "  print(f\"The MAE is {mae:.2f}\")\n",
    "  print(f\"The RMSE is {rmse:.2f}\")\n",
    "  print(f\"The MAPE is {100 * mape:.2f} %\")"
   ]
  },
  {
   "cell_type": "code",
   "execution_count": 29,
   "id": "da970c45",
   "metadata": {},
   "outputs": [
    {
     "data": {
      "image/png": "[encoded data removed]",
      "text/plain": [
       "<Figure size 1000x400 with 1 Axes>"
      ]
     },
     "metadata": {},
     "output_type": "display_data"
    },
    {
     "name": "stdout",
     "output_type": "stream",
     "text": [
      "The MAE is 7268062.38\n",
      "The RMSE is 12366738.60\n",
      "The MAPE is 24.15 %\n"
     ]
    }
   ],
   "source": [
    "model_assessment(train['y'].loc['2022':], test['y'], predictions_arima,'ARIMA Predictions');"
   ]
  },
  {
   "cell_type": "markdown",
   "id": "8b7942e8",
   "metadata": {},
   "source": [
    "## SARIMA"
   ]
  },
  {
   "cell_type": "code",
   "execution_count": null,
   "id": "48823103",
   "metadata": {},
   "outputs": [],
   "source": []
  },
  {
   "cell_type": "code",
   "execution_count": 30,
   "id": "5e862a15",
   "metadata": {},
   "outputs": [
    {
     "name": "stderr",
     "output_type": "stream",
     "text": [
      "c:\\Work\\MLOps\\flask_env\\Lib\\site-packages\\pmdarima\\arima\\_validation.py:76: UserWarning: stepwise model cannot be fit in parallel (n_jobs=1). Falling back to stepwise parameter search.\n",
      "  warnings.warn('stepwise model cannot be fit in parallel (n_jobs=%i). '\n",
      "c:\\Work\\MLOps\\flask_env\\Lib\\site-packages\\sklearn\\utils\\deprecation.py:151: FutureWarning: 'force_all_finite' was renamed to 'ensure_all_finite' in 1.6 and will be removed in 1.8.\n",
      "  warnings.warn(\n",
      "c:\\Work\\MLOps\\flask_env\\Lib\\site-packages\\sklearn\\utils\\deprecation.py:151: FutureWarning: 'force_all_finite' was renamed to 'ensure_all_finite' in 1.6 and will be removed in 1.8.\n",
      "  warnings.warn(\n",
      "c:\\Work\\MLOps\\flask_env\\Lib\\site-packages\\sklearn\\utils\\deprecation.py:151: FutureWarning: 'force_all_finite' was renamed to 'ensure_all_finite' in 1.6 and will be removed in 1.8.\n",
      "  warnings.warn(\n",
      "c:\\Work\\MLOps\\flask_env\\Lib\\site-packages\\sklearn\\utils\\deprecation.py:151: FutureWarning: 'force_all_finite' was renamed to 'ensure_all_finite' in 1.6 and will be removed in 1.8.\n",
      "  warnings.warn(\n",
      "c:\\Work\\MLOps\\flask_env\\Lib\\site-packages\\sklearn\\utils\\deprecation.py:151: FutureWarning: 'force_all_finite' was renamed to 'ensure_all_finite' in 1.6 and will be removed in 1.8.\n",
      "  warnings.warn(\n",
      "c:\\Work\\MLOps\\flask_env\\Lib\\site-packages\\sklearn\\utils\\deprecation.py:151: FutureWarning: 'force_all_finite' was renamed to 'ensure_all_finite' in 1.6 and will be removed in 1.8.\n",
      "  warnings.warn(\n",
      "c:\\Work\\MLOps\\flask_env\\Lib\\site-packages\\sklearn\\utils\\deprecation.py:151: FutureWarning: 'force_all_finite' was renamed to 'ensure_all_finite' in 1.6 and will be removed in 1.8.\n",
      "  warnings.warn(\n",
      "c:\\Work\\MLOps\\flask_env\\Lib\\site-packages\\sklearn\\utils\\deprecation.py:151: FutureWarning: 'force_all_finite' was renamed to 'ensure_all_finite' in 1.6 and will be removed in 1.8.\n",
      "  warnings.warn(\n",
      "c:\\Work\\MLOps\\flask_env\\Lib\\site-packages\\sklearn\\utils\\deprecation.py:151: FutureWarning: 'force_all_finite' was renamed to 'ensure_all_finite' in 1.6 and will be removed in 1.8.\n",
      "  warnings.warn(\n",
      "c:\\Work\\MLOps\\flask_env\\Lib\\site-packages\\sklearn\\utils\\deprecation.py:151: FutureWarning: 'force_all_finite' was renamed to 'ensure_all_finite' in 1.6 and will be removed in 1.8.\n",
      "  warnings.warn(\n",
      "c:\\Work\\MLOps\\flask_env\\Lib\\site-packages\\sklearn\\utils\\deprecation.py:151: FutureWarning: 'force_all_finite' was renamed to 'ensure_all_finite' in 1.6 and will be removed in 1.8.\n",
      "  warnings.warn(\n",
      "c:\\Work\\MLOps\\flask_env\\Lib\\site-packages\\sklearn\\utils\\deprecation.py:151: FutureWarning: 'force_all_finite' was renamed to 'ensure_all_finite' in 1.6 and will be removed in 1.8.\n",
      "  warnings.warn(\n",
      "c:\\Work\\MLOps\\flask_env\\Lib\\site-packages\\sklearn\\utils\\deprecation.py:151: FutureWarning: 'force_all_finite' was renamed to 'ensure_all_finite' in 1.6 and will be removed in 1.8.\n",
      "  warnings.warn(\n",
      "c:\\Work\\MLOps\\flask_env\\Lib\\site-packages\\sklearn\\utils\\deprecation.py:151: FutureWarning: 'force_all_finite' was renamed to 'ensure_all_finite' in 1.6 and will be removed in 1.8.\n",
      "  warnings.warn(\n",
      "c:\\Work\\MLOps\\flask_env\\Lib\\site-packages\\sklearn\\utils\\deprecation.py:151: FutureWarning: 'force_all_finite' was renamed to 'ensure_all_finite' in 1.6 and will be removed in 1.8.\n",
      "  warnings.warn(\n",
      "c:\\Work\\MLOps\\flask_env\\Lib\\site-packages\\sklearn\\utils\\deprecation.py:151: FutureWarning: 'force_all_finite' was renamed to 'ensure_all_finite' in 1.6 and will be removed in 1.8.\n",
      "  warnings.warn(\n",
      "c:\\Work\\MLOps\\flask_env\\Lib\\site-packages\\sklearn\\utils\\deprecation.py:151: FutureWarning: 'force_all_finite' was renamed to 'ensure_all_finite' in 1.6 and will be removed in 1.8.\n",
      "  warnings.warn(\n",
      "c:\\Work\\MLOps\\flask_env\\Lib\\site-packages\\sklearn\\utils\\deprecation.py:151: FutureWarning: 'force_all_finite' was renamed to 'ensure_all_finite' in 1.6 and will be removed in 1.8.\n",
      "  warnings.warn(\n",
      "c:\\Work\\MLOps\\flask_env\\Lib\\site-packages\\sklearn\\utils\\deprecation.py:151: FutureWarning: 'force_all_finite' was renamed to 'ensure_all_finite' in 1.6 and will be removed in 1.8.\n",
      "  warnings.warn(\n",
      "c:\\Work\\MLOps\\flask_env\\Lib\\site-packages\\sklearn\\utils\\deprecation.py:151: FutureWarning: 'force_all_finite' was renamed to 'ensure_all_finite' in 1.6 and will be removed in 1.8.\n",
      "  warnings.warn(\n",
      "c:\\Work\\MLOps\\flask_env\\Lib\\site-packages\\sklearn\\utils\\deprecation.py:151: FutureWarning: 'force_all_finite' was renamed to 'ensure_all_finite' in 1.6 and will be removed in 1.8.\n",
      "  warnings.warn(\n",
      "c:\\Work\\MLOps\\flask_env\\Lib\\site-packages\\sklearn\\utils\\deprecation.py:151: FutureWarning: 'force_all_finite' was renamed to 'ensure_all_finite' in 1.6 and will be removed in 1.8.\n",
      "  warnings.warn(\n",
      "c:\\Work\\MLOps\\flask_env\\Lib\\site-packages\\sklearn\\utils\\deprecation.py:151: FutureWarning: 'force_all_finite' was renamed to 'ensure_all_finite' in 1.6 and will be removed in 1.8.\n",
      "  warnings.warn(\n",
      "c:\\Work\\MLOps\\flask_env\\Lib\\site-packages\\sklearn\\utils\\deprecation.py:151: FutureWarning: 'force_all_finite' was renamed to 'ensure_all_finite' in 1.6 and will be removed in 1.8.\n",
      "  warnings.warn(\n",
      "c:\\Work\\MLOps\\flask_env\\Lib\\site-packages\\sklearn\\utils\\deprecation.py:151: FutureWarning: 'force_all_finite' was renamed to 'ensure_all_finite' in 1.6 and will be removed in 1.8.\n",
      "  warnings.warn(\n",
      "c:\\Work\\MLOps\\flask_env\\Lib\\site-packages\\sklearn\\utils\\deprecation.py:151: FutureWarning: 'force_all_finite' was renamed to 'ensure_all_finite' in 1.6 and will be removed in 1.8.\n",
      "  warnings.warn(\n",
      "c:\\Work\\MLOps\\flask_env\\Lib\\site-packages\\sklearn\\utils\\deprecation.py:151: FutureWarning: 'force_all_finite' was renamed to 'ensure_all_finite' in 1.6 and will be removed in 1.8.\n",
      "  warnings.warn(\n",
      "c:\\Work\\MLOps\\flask_env\\Lib\\site-packages\\sklearn\\utils\\deprecation.py:151: FutureWarning: 'force_all_finite' was renamed to 'ensure_all_finite' in 1.6 and will be removed in 1.8.\n",
      "  warnings.warn(\n",
      "c:\\Work\\MLOps\\flask_env\\Lib\\site-packages\\sklearn\\utils\\deprecation.py:151: FutureWarning: 'force_all_finite' was renamed to 'ensure_all_finite' in 1.6 and will be removed in 1.8.\n",
      "  warnings.warn(\n",
      "c:\\Work\\MLOps\\flask_env\\Lib\\site-packages\\sklearn\\utils\\deprecation.py:151: FutureWarning: 'force_all_finite' was renamed to 'ensure_all_finite' in 1.6 and will be removed in 1.8.\n",
      "  warnings.warn(\n",
      "c:\\Work\\MLOps\\flask_env\\Lib\\site-packages\\sklearn\\utils\\deprecation.py:151: FutureWarning: 'force_all_finite' was renamed to 'ensure_all_finite' in 1.6 and will be removed in 1.8.\n",
      "  warnings.warn(\n",
      "c:\\Work\\MLOps\\flask_env\\Lib\\site-packages\\sklearn\\utils\\deprecation.py:151: FutureWarning: 'force_all_finite' was renamed to 'ensure_all_finite' in 1.6 and will be removed in 1.8.\n",
      "  warnings.warn(\n",
      "c:\\Work\\MLOps\\flask_env\\Lib\\site-packages\\sklearn\\utils\\deprecation.py:151: FutureWarning: 'force_all_finite' was renamed to 'ensure_all_finite' in 1.6 and will be removed in 1.8.\n",
      "  warnings.warn(\n",
      "c:\\Work\\MLOps\\flask_env\\Lib\\site-packages\\sklearn\\utils\\deprecation.py:151: FutureWarning: 'force_all_finite' was renamed to 'ensure_all_finite' in 1.6 and will be removed in 1.8.\n",
      "  warnings.warn(\n",
      "c:\\Work\\MLOps\\flask_env\\Lib\\site-packages\\sklearn\\utils\\deprecation.py:151: FutureWarning: 'force_all_finite' was renamed to 'ensure_all_finite' in 1.6 and will be removed in 1.8.\n",
      "  warnings.warn(\n",
      "c:\\Work\\MLOps\\flask_env\\Lib\\site-packages\\sklearn\\utils\\deprecation.py:151: FutureWarning: 'force_all_finite' was renamed to 'ensure_all_finite' in 1.6 and will be removed in 1.8.\n",
      "  warnings.warn(\n",
      "c:\\Work\\MLOps\\flask_env\\Lib\\site-packages\\sklearn\\utils\\deprecation.py:151: FutureWarning: 'force_all_finite' was renamed to 'ensure_all_finite' in 1.6 and will be removed in 1.8.\n",
      "  warnings.warn(\n",
      "c:\\Work\\MLOps\\flask_env\\Lib\\site-packages\\sklearn\\utils\\deprecation.py:151: FutureWarning: 'force_all_finite' was renamed to 'ensure_all_finite' in 1.6 and will be removed in 1.8.\n",
      "  warnings.warn(\n",
      "c:\\Work\\MLOps\\flask_env\\Lib\\site-packages\\sklearn\\utils\\deprecation.py:151: FutureWarning: 'force_all_finite' was renamed to 'ensure_all_finite' in 1.6 and will be removed in 1.8.\n",
      "  warnings.warn(\n",
      "c:\\Work\\MLOps\\flask_env\\Lib\\site-packages\\sklearn\\utils\\deprecation.py:151: FutureWarning: 'force_all_finite' was renamed to 'ensure_all_finite' in 1.6 and will be removed in 1.8.\n",
      "  warnings.warn(\n",
      "c:\\Work\\MLOps\\flask_env\\Lib\\site-packages\\sklearn\\utils\\deprecation.py:151: FutureWarning: 'force_all_finite' was renamed to 'ensure_all_finite' in 1.6 and will be removed in 1.8.\n",
      "  warnings.warn(\n",
      "c:\\Work\\MLOps\\flask_env\\Lib\\site-packages\\sklearn\\utils\\deprecation.py:151: FutureWarning: 'force_all_finite' was renamed to 'ensure_all_finite' in 1.6 and will be removed in 1.8.\n",
      "  warnings.warn(\n"
     ]
    },
    {
     "data": {
      "text/html": [
       "<table class=\"simpletable\">\n",
       "<caption>SARIMAX Results</caption>\n",
       "<tr>\n",
       "  <th>Dep. Variable:</th>                 <td>y</td>               <th>  No. Observations:  </th>    <td>1764</td>   \n",
       "</tr>\n",
       "<tr>\n",
       "  <th>Model:</th>           <td>SARIMAX(3, 1, 2)x(2, 0, 2, 7)</td> <th>  Log Likelihood     </th> <td>-28745.263</td>\n",
       "</tr>\n",
       "<tr>\n",
       "  <th>Date:</th>                  <td>Tue, 10 Jun 2025</td>        <th>  AIC                </th>  <td>57512.527</td>\n",
       "</tr>\n",
       "<tr>\n",
       "  <th>Time:</th>                      <td>15:33:45</td>            <th>  BIC                </th>  <td>57572.749</td>\n",
       "</tr>\n",
       "<tr>\n",
       "  <th>Sample:</th>                   <td>01-02-2018</td>           <th>  HQIC               </th>  <td>57534.781</td>\n",
       "</tr>\n",
       "<tr>\n",
       "  <th></th>                         <td>- 10-31-2022</td>          <th>                     </th>      <td> </td>    \n",
       "</tr>\n",
       "<tr>\n",
       "  <th>Covariance Type:</th>              <td>opg</td>              <th>                     </th>      <td> </td>    \n",
       "</tr>\n",
       "</table>\n",
       "<table class=\"simpletable\">\n",
       "<tr>\n",
       "      <td></td>         <th>coef</th>     <th>std err</th>      <th>z</th>      <th>P>|z|</th>  <th>[0.025</th>    <th>0.975]</th>  \n",
       "</tr>\n",
       "<tr>\n",
       "  <th>intercept</th> <td> 1.018e+04</td> <td> 4740.487</td> <td>    2.148</td> <td> 0.032</td> <td>  893.697</td> <td> 1.95e+04</td>\n",
       "</tr>\n",
       "<tr>\n",
       "  <th>ar.L1</th>     <td>   -0.3483</td> <td>    0.073</td> <td>   -4.789</td> <td> 0.000</td> <td>   -0.491</td> <td>   -0.206</td>\n",
       "</tr>\n",
       "<tr>\n",
       "  <th>ar.L2</th>     <td>    0.1853</td> <td>    0.033</td> <td>    5.701</td> <td> 0.000</td> <td>    0.122</td> <td>    0.249</td>\n",
       "</tr>\n",
       "<tr>\n",
       "  <th>ar.L3</th>     <td>    0.1033</td> <td>    0.016</td> <td>    6.527</td> <td> 0.000</td> <td>    0.072</td> <td>    0.134</td>\n",
       "</tr>\n",
       "<tr>\n",
       "  <th>ma.L1</th>     <td>   -0.1958</td> <td>    0.074</td> <td>   -2.646</td> <td> 0.008</td> <td>   -0.341</td> <td>   -0.051</td>\n",
       "</tr>\n",
       "<tr>\n",
       "  <th>ma.L2</th>     <td>   -0.5678</td> <td>    0.061</td> <td>   -9.358</td> <td> 0.000</td> <td>   -0.687</td> <td>   -0.449</td>\n",
       "</tr>\n",
       "<tr>\n",
       "  <th>ar.S.L7</th>   <td>    0.0785</td> <td>    0.183</td> <td>    0.429</td> <td> 0.668</td> <td>   -0.280</td> <td>    0.437</td>\n",
       "</tr>\n",
       "<tr>\n",
       "  <th>ar.S.L14</th>  <td>    0.8726</td> <td>    0.174</td> <td>    5.020</td> <td> 0.000</td> <td>    0.532</td> <td>    1.213</td>\n",
       "</tr>\n",
       "<tr>\n",
       "  <th>ma.S.L7</th>   <td>   -0.0016</td> <td>    0.178</td> <td>   -0.009</td> <td> 0.993</td> <td>   -0.351</td> <td>    0.348</td>\n",
       "</tr>\n",
       "<tr>\n",
       "  <th>ma.S.L14</th>  <td>   -0.8324</td> <td>    0.159</td> <td>   -5.247</td> <td> 0.000</td> <td>   -1.143</td> <td>   -0.521</td>\n",
       "</tr>\n",
       "<tr>\n",
       "  <th>sigma2</th>    <td> 9.299e+12</td> <td>    0.000</td> <td> 8.62e+16</td> <td> 0.000</td> <td>  9.3e+12</td> <td>  9.3e+12</td>\n",
       "</tr>\n",
       "</table>\n",
       "<table class=\"simpletable\">\n",
       "<tr>\n",
       "  <th>Ljung-Box (L1) (Q):</th>     <td>0.01</td> <th>  Jarque-Bera (JB):  </th> <td>852478.78</td>\n",
       "</tr>\n",
       "<tr>\n",
       "  <th>Prob(Q):</th>                <td>0.93</td> <th>  Prob(JB):          </th>   <td>0.00</td>   \n",
       "</tr>\n",
       "<tr>\n",
       "  <th>Heteroskedasticity (H):</th> <td>2.88</td> <th>  Skew:              </th>   <td>5.25</td>   \n",
       "</tr>\n",
       "<tr>\n",
       "  <th>Prob(H) (two-sided):</th>    <td>0.00</td> <th>  Kurtosis:          </th>  <td>110.21</td>  \n",
       "</tr>\n",
       "</table><br/><br/>Warnings:<br/>[1] Covariance matrix calculated using the outer product of gradients (complex-step).<br/>[2] Covariance matrix is singular or near-singular, with condition number 6.92e+30. Standard errors may be unstable."
      ],
      "text/latex": [
       "\\begin{center}\n",
       "\\begin{tabular}{lclc}\n",
       "\\toprule\n",
       "\\textbf{Dep. Variable:}          &               y               & \\textbf{  No. Observations:  } &    1764     \\\\\n",
       "\\textbf{Model:}                  & SARIMAX(3, 1, 2)x(2, 0, 2, 7) & \\textbf{  Log Likelihood     } & -28745.263  \\\\\n",
       "\\textbf{Date:}                   &        Tue, 10 Jun 2025       & \\textbf{  AIC                } & 57512.527   \\\\\n",
       "\\textbf{Time:}                   &            15:33:45           & \\textbf{  BIC                } & 57572.749   \\\\\n",
       "\\textbf{Sample:}                 &           01-02-2018          & \\textbf{  HQIC               } & 57534.781   \\\\\n",
       "\\textbf{}                        &          - 10-31-2022         & \\textbf{                     } &             \\\\\n",
       "\\textbf{Covariance Type:}        &              opg              & \\textbf{                     } &             \\\\\n",
       "\\bottomrule\n",
       "\\end{tabular}\n",
       "\\begin{tabular}{lcccccc}\n",
       "                   & \\textbf{coef} & \\textbf{std err} & \\textbf{z} & \\textbf{P$> |$z$|$} & \\textbf{[0.025} & \\textbf{0.975]}  \\\\\n",
       "\\midrule\n",
       "\\textbf{intercept} &    1.018e+04  &     4740.487     &     2.148  &         0.032        &      893.697    &     1.95e+04     \\\\\n",
       "\\textbf{ar.L1}     &      -0.3483  &        0.073     &    -4.789  &         0.000        &       -0.491    &       -0.206     \\\\\n",
       "\\textbf{ar.L2}     &       0.1853  &        0.033     &     5.701  &         0.000        &        0.122    &        0.249     \\\\\n",
       "\\textbf{ar.L3}     &       0.1033  &        0.016     &     6.527  &         0.000        &        0.072    &        0.134     \\\\\n",
       "\\textbf{ma.L1}     &      -0.1958  &        0.074     &    -2.646  &         0.008        &       -0.341    &       -0.051     \\\\\n",
       "\\textbf{ma.L2}     &      -0.5678  &        0.061     &    -9.358  &         0.000        &       -0.687    &       -0.449     \\\\\n",
       "\\textbf{ar.S.L7}   &       0.0785  &        0.183     &     0.429  &         0.668        &       -0.280    &        0.437     \\\\\n",
       "\\textbf{ar.S.L14}  &       0.8726  &        0.174     &     5.020  &         0.000        &        0.532    &        1.213     \\\\\n",
       "\\textbf{ma.S.L7}   &      -0.0016  &        0.178     &    -0.009  &         0.993        &       -0.351    &        0.348     \\\\\n",
       "\\textbf{ma.S.L14}  &      -0.8324  &        0.159     &    -5.247  &         0.000        &       -1.143    &       -0.521     \\\\\n",
       "\\textbf{sigma2}    &    9.299e+12  &        0.000     &  8.62e+16  &         0.000        &      9.3e+12    &      9.3e+12     \\\\\n",
       "\\bottomrule\n",
       "\\end{tabular}\n",
       "\\begin{tabular}{lclc}\n",
       "\\textbf{Ljung-Box (L1) (Q):}     & 0.01 & \\textbf{  Jarque-Bera (JB):  } & 852478.78  \\\\\n",
       "\\textbf{Prob(Q):}                & 0.93 & \\textbf{  Prob(JB):          } &    0.00    \\\\\n",
       "\\textbf{Heteroskedasticity (H):} & 2.88 & \\textbf{  Skew:              } &    5.25    \\\\\n",
       "\\textbf{Prob(H) (two-sided):}    & 0.00 & \\textbf{  Kurtosis:          } &   110.21   \\\\\n",
       "\\bottomrule\n",
       "\\end{tabular}\n",
       "%\\caption{SARIMAX Results}\n",
       "\\end{center}\n",
       "\n",
       "Warnings: \\newline\n",
       " [1] Covariance matrix calculated using the outer product of gradients (complex-step). \\newline\n",
       " [2] Covariance matrix is singular or near-singular, with condition number 6.92e+30. Standard errors may be unstable."
      ],
      "text/plain": [
       "<class 'statsmodels.iolib.summary.Summary'>\n",
       "\"\"\"\n",
       "                                     SARIMAX Results                                     \n",
       "=========================================================================================\n",
       "Dep. Variable:                                 y   No. Observations:                 1764\n",
       "Model:             SARIMAX(3, 1, 2)x(2, 0, 2, 7)   Log Likelihood              -28745.263\n",
       "Date:                           Tue, 10 Jun 2025   AIC                          57512.527\n",
       "Time:                                   15:33:45   BIC                          57572.749\n",
       "Sample:                               01-02-2018   HQIC                         57534.781\n",
       "                                    - 10-31-2022                                         \n",
       "Covariance Type:                             opg                                         \n",
       "==============================================================================\n",
       "                 coef    std err          z      P>|z|      [0.025      0.975]\n",
       "------------------------------------------------------------------------------\n",
       "intercept   1.018e+04   4740.487      2.148      0.032     893.697    1.95e+04\n",
       "ar.L1         -0.3483      0.073     -4.789      0.000      -0.491      -0.206\n",
       "ar.L2          0.1853      0.033      5.701      0.000       0.122       0.249\n",
       "ar.L3          0.1033      0.016      6.527      0.000       0.072       0.134\n",
       "ma.L1         -0.1958      0.074     -2.646      0.008      -0.341      -0.051\n",
       "ma.L2         -0.5678      0.061     -9.358      0.000      -0.687      -0.449\n",
       "ar.S.L7        0.0785      0.183      0.429      0.668      -0.280       0.437\n",
       "ar.S.L14       0.8726      0.174      5.020      0.000       0.532       1.213\n",
       "ma.S.L7       -0.0016      0.178     -0.009      0.993      -0.351       0.348\n",
       "ma.S.L14      -0.8324      0.159     -5.247      0.000      -1.143      -0.521\n",
       "sigma2      9.299e+12      0.000   8.62e+16      0.000     9.3e+12     9.3e+12\n",
       "===================================================================================\n",
       "Ljung-Box (L1) (Q):                   0.01   Jarque-Bera (JB):            852478.78\n",
       "Prob(Q):                              0.93   Prob(JB):                         0.00\n",
       "Heteroskedasticity (H):               2.88   Skew:                             5.25\n",
       "Prob(H) (two-sided):                  0.00   Kurtosis:                       110.21\n",
       "===================================================================================\n",
       "\n",
       "Warnings:\n",
       "[1] Covariance matrix calculated using the outer product of gradients (complex-step).\n",
       "[2] Covariance matrix is singular or near-singular, with condition number 6.92e+30. Standard errors may be unstable.\n",
       "\"\"\""
      ]
     },
     "execution_count": 30,
     "metadata": {},
     "output_type": "execute_result"
    }
   ],
   "source": [
    "model_sarima = auto_arima(train['y'], n_jobs=-1, m = 7)\n",
    "model_sarima.summary()"
   ]
  },
  {
   "cell_type": "code",
   "execution_count": 31,
   "id": "6db2b7b9",
   "metadata": {},
   "outputs": [
    {
     "name": "stderr",
     "output_type": "stream",
     "text": [
      "c:\\Work\\MLOps\\flask_env\\Lib\\site-packages\\sklearn\\utils\\deprecation.py:151: FutureWarning: 'force_all_finite' was renamed to 'ensure_all_finite' in 1.6 and will be removed in 1.8.\n",
      "  warnings.warn(\n"
     ]
    }
   ],
   "source": [
    "predictions_sarima = model_sarima.predict(n_periods=len(test))"
   ]
  },
  {
   "cell_type": "code",
   "execution_count": 32,
   "id": "19c420b5",
   "metadata": {},
   "outputs": [
    {
     "data": {
      "image/png": "[encoded data removed]",
      "text/plain": [
       "<Figure size 1000x400 with 1 Axes>"
      ]
     },
     "metadata": {},
     "output_type": "display_data"
    },
    {
     "name": "stdout",
     "output_type": "stream",
     "text": [
      "The MAE is 7211463.37\n",
      "The RMSE is 12154356.07\n",
      "The MAPE is 24.54 %\n"
     ]
    }
   ],
   "source": [
    "model_assessment(train['y']['2022':], test['y'], predictions_sarima,'Predictions Sarima')"
   ]
  },
  {
   "cell_type": "markdown",
   "id": "6579fdd5",
   "metadata": {},
   "source": [
    "## SARIMAX "
   ]
  },
  {
   "cell_type": "code",
   "execution_count": 33,
   "id": "8123af8a",
   "metadata": {},
   "outputs": [],
   "source": [
    "import warnings\n",
    "warnings.filterwarnings(\"ignore\")"
   ]
  },
  {
   "cell_type": "code",
   "execution_count": 34,
   "id": "6c143c0f",
   "metadata": {},
   "outputs": [],
   "source": [
    "# Split the data into training and test \n",
    "\n",
    "test_days = 30 \n",
    "exog_train, exog_test = df.iloc[:-test_days,1:3], df.iloc[-test_days:,1:3] \n",
    "\n",
    "exog = df.iloc[:,1:3]"
   ]
  },
  {
   "cell_type": "code",
   "execution_count": 35,
   "id": "d0c2982d",
   "metadata": {},
   "outputs": [
    {
     "data": {
      "text/html": [
       "<table class=\"simpletable\">\n",
       "<caption>SARIMAX Results</caption>\n",
       "<tr>\n",
       "  <th>Dep. Variable:</th>                  <td>y</td>                <th>  No. Observations:  </th>    <td>1764</td>   \n",
       "</tr>\n",
       "<tr>\n",
       "  <th>Model:</th>           <td>SARIMAX(4, 1, 4)x(1, 0, [1], 7)</td> <th>  Log Likelihood     </th> <td>-28594.034</td>\n",
       "</tr>\n",
       "<tr>\n",
       "  <th>Date:</th>                   <td>Tue, 10 Jun 2025</td>         <th>  AIC                </th>  <td>57216.068</td>\n",
       "</tr>\n",
       "<tr>\n",
       "  <th>Time:</th>                       <td>15:36:38</td>             <th>  BIC                </th>  <td>57292.715</td>\n",
       "</tr>\n",
       "<tr>\n",
       "  <th>Sample:</th>                    <td>01-02-2018</td>            <th>  HQIC               </th>  <td>57244.391</td>\n",
       "</tr>\n",
       "<tr>\n",
       "  <th></th>                          <td>- 10-31-2022</td>           <th>                     </th>      <td> </td>    \n",
       "</tr>\n",
       "<tr>\n",
       "  <th>Covariance Type:</th>               <td>opg</td>               <th>                     </th>      <td> </td>    \n",
       "</tr>\n",
       "</table>\n",
       "<table class=\"simpletable\">\n",
       "<tr>\n",
       "        <td></td>           <th>coef</th>     <th>std err</th>      <th>z</th>      <th>P>|z|</th>  <th>[0.025</th>    <th>0.975]</th>  \n",
       "</tr>\n",
       "<tr>\n",
       "  <th>intercept</th>     <td> 1.904e+04</td> <td>  1.1e+04</td> <td>    1.738</td> <td> 0.082</td> <td>-2436.535</td> <td> 4.05e+04</td>\n",
       "</tr>\n",
       "<tr>\n",
       "  <th>discount_rate</th> <td> 4.049e+05</td> <td> 2.29e+04</td> <td>   17.709</td> <td> 0.000</td> <td>  3.6e+05</td> <td>  4.5e+05</td>\n",
       "</tr>\n",
       "<tr>\n",
       "  <th>coupon_rate</th>   <td> 9.221e+05</td> <td> 3075.496</td> <td>  299.822</td> <td> 0.000</td> <td> 9.16e+05</td> <td> 9.28e+05</td>\n",
       "</tr>\n",
       "<tr>\n",
       "  <th>ar.L1</th>         <td>   -2.2015</td> <td>    0.229</td> <td>   -9.593</td> <td> 0.000</td> <td>   -2.651</td> <td>   -1.752</td>\n",
       "</tr>\n",
       "<tr>\n",
       "  <th>ar.L2</th>         <td>   -1.7467</td> <td>    0.365</td> <td>   -4.790</td> <td> 0.000</td> <td>   -2.461</td> <td>   -1.032</td>\n",
       "</tr>\n",
       "<tr>\n",
       "  <th>ar.L3</th>         <td>   -0.3118</td> <td>    0.137</td> <td>   -2.273</td> <td> 0.023</td> <td>   -0.581</td> <td>   -0.043</td>\n",
       "</tr>\n",
       "<tr>\n",
       "  <th>ar.L4</th>         <td>    0.2055</td> <td>    0.049</td> <td>    4.216</td> <td> 0.000</td> <td>    0.110</td> <td>    0.301</td>\n",
       "</tr>\n",
       "<tr>\n",
       "  <th>ma.L1</th>         <td>    1.6556</td> <td>    0.230</td> <td>    7.212</td> <td> 0.000</td> <td>    1.206</td> <td>    2.106</td>\n",
       "</tr>\n",
       "<tr>\n",
       "  <th>ma.L2</th>         <td>    0.3954</td> <td>    0.250</td> <td>    1.579</td> <td> 0.114</td> <td>   -0.095</td> <td>    0.886</td>\n",
       "</tr>\n",
       "<tr>\n",
       "  <th>ma.L3</th>         <td>   -0.9763</td> <td>    0.133</td> <td>   -7.353</td> <td> 0.000</td> <td>   -1.237</td> <td>   -0.716</td>\n",
       "</tr>\n",
       "<tr>\n",
       "  <th>ma.L4</th>         <td>   -0.6839</td> <td>    0.159</td> <td>   -4.308</td> <td> 0.000</td> <td>   -0.995</td> <td>   -0.373</td>\n",
       "</tr>\n",
       "<tr>\n",
       "  <th>ar.S.L7</th>       <td>    0.9843</td> <td>    0.010</td> <td>  100.814</td> <td> 0.000</td> <td>    0.965</td> <td>    1.003</td>\n",
       "</tr>\n",
       "<tr>\n",
       "  <th>ma.S.L7</th>       <td>   -0.9319</td> <td>    0.021</td> <td>  -44.657</td> <td> 0.000</td> <td>   -0.973</td> <td>   -0.891</td>\n",
       "</tr>\n",
       "<tr>\n",
       "  <th>sigma2</th>        <td> 7.899e+12</td> <td>    0.004</td> <td> 2.15e+15</td> <td> 0.000</td> <td>  7.9e+12</td> <td>  7.9e+12</td>\n",
       "</tr>\n",
       "</table>\n",
       "<table class=\"simpletable\">\n",
       "<tr>\n",
       "  <th>Ljung-Box (L1) (Q):</th>     <td>0.02</td> <th>  Jarque-Bera (JB):  </th> <td>1111476.87</td>\n",
       "</tr>\n",
       "<tr>\n",
       "  <th>Prob(Q):</th>                <td>0.88</td> <th>  Prob(JB):          </th>    <td>0.00</td>   \n",
       "</tr>\n",
       "<tr>\n",
       "  <th>Heteroskedasticity (H):</th> <td>2.04</td> <th>  Skew:              </th>    <td>5.65</td>   \n",
       "</tr>\n",
       "<tr>\n",
       "  <th>Prob(H) (two-sided):</th>    <td>0.00</td> <th>  Kurtosis:          </th>   <td>125.49</td>  \n",
       "</tr>\n",
       "</table><br/><br/>Warnings:<br/>[1] Covariance matrix calculated using the outer product of gradients (complex-step).<br/>[2] Covariance matrix is singular or near-singular, with condition number 1.49e+29. Standard errors may be unstable."
      ],
      "text/latex": [
       "\\begin{center}\n",
       "\\begin{tabular}{lclc}\n",
       "\\toprule\n",
       "\\textbf{Dep. Variable:}          &                y                & \\textbf{  No. Observations:  } &    1764     \\\\\n",
       "\\textbf{Model:}                  & SARIMAX(4, 1, 4)x(1, 0, [1], 7) & \\textbf{  Log Likelihood     } & -28594.034  \\\\\n",
       "\\textbf{Date:}                   &         Tue, 10 Jun 2025        & \\textbf{  AIC                } & 57216.068   \\\\\n",
       "\\textbf{Time:}                   &             15:36:38            & \\textbf{  BIC                } & 57292.715   \\\\\n",
       "\\textbf{Sample:}                 &            01-02-2018           & \\textbf{  HQIC               } & 57244.391   \\\\\n",
       "\\textbf{}                        &           - 10-31-2022          & \\textbf{                     } &             \\\\\n",
       "\\textbf{Covariance Type:}        &               opg               & \\textbf{                     } &             \\\\\n",
       "\\bottomrule\n",
       "\\end{tabular}\n",
       "\\begin{tabular}{lcccccc}\n",
       "                        & \\textbf{coef} & \\textbf{std err} & \\textbf{z} & \\textbf{P$> |$z$|$} & \\textbf{[0.025} & \\textbf{0.975]}  \\\\\n",
       "\\midrule\n",
       "\\textbf{intercept}      &    1.904e+04  &      1.1e+04     &     1.738  &         0.082        &    -2436.535    &     4.05e+04     \\\\\n",
       "\\textbf{discount\\_rate} &    4.049e+05  &     2.29e+04     &    17.709  &         0.000        &      3.6e+05    &      4.5e+05     \\\\\n",
       "\\textbf{coupon\\_rate}   &    9.221e+05  &     3075.496     &   299.822  &         0.000        &     9.16e+05    &     9.28e+05     \\\\\n",
       "\\textbf{ar.L1}          &      -2.2015  &        0.229     &    -9.593  &         0.000        &       -2.651    &       -1.752     \\\\\n",
       "\\textbf{ar.L2}          &      -1.7467  &        0.365     &    -4.790  &         0.000        &       -2.461    &       -1.032     \\\\\n",
       "\\textbf{ar.L3}          &      -0.3118  &        0.137     &    -2.273  &         0.023        &       -0.581    &       -0.043     \\\\\n",
       "\\textbf{ar.L4}          &       0.2055  &        0.049     &     4.216  &         0.000        &        0.110    &        0.301     \\\\\n",
       "\\textbf{ma.L1}          &       1.6556  &        0.230     &     7.212  &         0.000        &        1.206    &        2.106     \\\\\n",
       "\\textbf{ma.L2}          &       0.3954  &        0.250     &     1.579  &         0.114        &       -0.095    &        0.886     \\\\\n",
       "\\textbf{ma.L3}          &      -0.9763  &        0.133     &    -7.353  &         0.000        &       -1.237    &       -0.716     \\\\\n",
       "\\textbf{ma.L4}          &      -0.6839  &        0.159     &    -4.308  &         0.000        &       -0.995    &       -0.373     \\\\\n",
       "\\textbf{ar.S.L7}        &       0.9843  &        0.010     &   100.814  &         0.000        &        0.965    &        1.003     \\\\\n",
       "\\textbf{ma.S.L7}        &      -0.9319  &        0.021     &   -44.657  &         0.000        &       -0.973    &       -0.891     \\\\\n",
       "\\textbf{sigma2}         &    7.899e+12  &        0.004     &  2.15e+15  &         0.000        &      7.9e+12    &      7.9e+12     \\\\\n",
       "\\bottomrule\n",
       "\\end{tabular}\n",
       "\\begin{tabular}{lclc}\n",
       "\\textbf{Ljung-Box (L1) (Q):}     & 0.02 & \\textbf{  Jarque-Bera (JB):  } & 1111476.87  \\\\\n",
       "\\textbf{Prob(Q):}                & 0.88 & \\textbf{  Prob(JB):          } &    0.00     \\\\\n",
       "\\textbf{Heteroskedasticity (H):} & 2.04 & \\textbf{  Skew:              } &    5.65     \\\\\n",
       "\\textbf{Prob(H) (two-sided):}    & 0.00 & \\textbf{  Kurtosis:          } &   125.49    \\\\\n",
       "\\bottomrule\n",
       "\\end{tabular}\n",
       "%\\caption{SARIMAX Results}\n",
       "\\end{center}\n",
       "\n",
       "Warnings: \\newline\n",
       " [1] Covariance matrix calculated using the outer product of gradients (complex-step). \\newline\n",
       " [2] Covariance matrix is singular or near-singular, with condition number 1.49e+29. Standard errors may be unstable."
      ],
      "text/plain": [
       "<class 'statsmodels.iolib.summary.Summary'>\n",
       "\"\"\"\n",
       "                                      SARIMAX Results                                      \n",
       "===========================================================================================\n",
       "Dep. Variable:                                   y   No. Observations:                 1764\n",
       "Model:             SARIMAX(4, 1, 4)x(1, 0, [1], 7)   Log Likelihood              -28594.034\n",
       "Date:                             Tue, 10 Jun 2025   AIC                          57216.068\n",
       "Time:                                     15:36:38   BIC                          57292.715\n",
       "Sample:                                 01-02-2018   HQIC                         57244.391\n",
       "                                      - 10-31-2022                                         \n",
       "Covariance Type:                               opg                                         \n",
       "=================================================================================\n",
       "                    coef    std err          z      P>|z|      [0.025      0.975]\n",
       "---------------------------------------------------------------------------------\n",
       "intercept      1.904e+04    1.1e+04      1.738      0.082   -2436.535    4.05e+04\n",
       "discount_rate  4.049e+05   2.29e+04     17.709      0.000     3.6e+05     4.5e+05\n",
       "coupon_rate    9.221e+05   3075.496    299.822      0.000    9.16e+05    9.28e+05\n",
       "ar.L1            -2.2015      0.229     -9.593      0.000      -2.651      -1.752\n",
       "ar.L2            -1.7467      0.365     -4.790      0.000      -2.461      -1.032\n",
       "ar.L3            -0.3118      0.137     -2.273      0.023      -0.581      -0.043\n",
       "ar.L4             0.2055      0.049      4.216      0.000       0.110       0.301\n",
       "ma.L1             1.6556      0.230      7.212      0.000       1.206       2.106\n",
       "ma.L2             0.3954      0.250      1.579      0.114      -0.095       0.886\n",
       "ma.L3            -0.9763      0.133     -7.353      0.000      -1.237      -0.716\n",
       "ma.L4            -0.6839      0.159     -4.308      0.000      -0.995      -0.373\n",
       "ar.S.L7           0.9843      0.010    100.814      0.000       0.965       1.003\n",
       "ma.S.L7          -0.9319      0.021    -44.657      0.000      -0.973      -0.891\n",
       "sigma2         7.899e+12      0.004   2.15e+15      0.000     7.9e+12     7.9e+12\n",
       "===================================================================================\n",
       "Ljung-Box (L1) (Q):                   0.02   Jarque-Bera (JB):           1111476.87\n",
       "Prob(Q):                              0.88   Prob(JB):                         0.00\n",
       "Heteroskedasticity (H):               2.04   Skew:                             5.65\n",
       "Prob(H) (two-sided):                  0.00   Kurtosis:                       125.49\n",
       "===================================================================================\n",
       "\n",
       "Warnings:\n",
       "[1] Covariance matrix calculated using the outer product of gradients (complex-step).\n",
       "[2] Covariance matrix is singular or near-singular, with condition number 1.49e+29. Standard errors may be unstable.\n",
       "\"\"\""
      ]
     },
     "execution_count": 35,
     "metadata": {},
     "output_type": "execute_result"
    }
   ],
   "source": [
    "model_sarimax = auto_arima(train['y'], n_jobs=-1, m = 7,X = exog_train)\n",
    "model_sarimax.summary()\n",
    "\n"
   ]
  },
  {
   "cell_type": "code",
   "execution_count": 36,
   "id": "0bf6e882",
   "metadata": {},
   "outputs": [],
   "source": [
    "\n",
    "predictions_sarimax = model_sarimax.predict(n_periods=len(test), X = exog_test)"
   ]
  },
  {
   "cell_type": "code",
   "execution_count": 37,
   "id": "8bacaf10",
   "metadata": {},
   "outputs": [
    {
     "data": {
      "image/png": "[encoded data removed]",
      "text/plain": [
       "<Figure size 1000x400 with 1 Axes>"
      ]
     },
     "metadata": {},
     "output_type": "display_data"
    },
    {
     "name": "stdout",
     "output_type": "stream",
     "text": [
      "The MAE is 5810258.53\n",
      "The RMSE is 10501651.74\n",
      "The MAPE is 19.70 %\n"
     ]
    }
   ],
   "source": [
    "model_assessment(train['y']['2022':], test['y'], predictions_sarimax,'Predictions Sarima')"
   ]
  },
  {
   "cell_type": "markdown",
   "id": "c98ed03d",
   "metadata": {},
   "source": [
    "## Cross Validation "
   ]
  },
  {
   "cell_type": "markdown",
   "id": "ba9a7af1",
   "metadata": {},
   "source": [
    "## Define a model to do cross validation "
   ]
  },
  {
   "cell_type": "code",
   "execution_count": 38,
   "id": "8ad0602e",
   "metadata": {},
   "outputs": [],
   "source": [
    "model_cv = ARIMA(order=(2,1,2), seasonal_order=(2,0,2,7))"
   ]
  },
  {
   "cell_type": "code",
   "execution_count": 39,
   "id": "b11b1dd3",
   "metadata": {},
   "outputs": [],
   "source": [
    "cv = model_selection.RollingForecastCV(h=30, step=15, initial=df.shape[0] - 180)"
   ]
  },
  {
   "cell_type": "code",
   "execution_count": 40,
   "id": "096df26d",
   "metadata": {},
   "outputs": [
    {
     "data": {
      "text/html": [
       "<style>#sk-container-id-1 {\n",
       "  /* Definition of color scheme common for light and dark mode */\n",
       "  --sklearn-color-text: #000;\n",
       "  --sklearn-color-text-muted: #666;\n",
       "  --sklearn-color-line: gray;\n",
       "  /* Definition of color scheme for unfitted estimators */\n",
       "  --sklearn-color-unfitted-level-0: #fff5e6;\n",
       "  --sklearn-color-unfitted-level-1: #f6e4d2;\n",
       "  --sklearn-color-unfitted-level-2: #ffe0b3;\n",
       "  --sklearn-color-unfitted-level-3: chocolate;\n",
       "  /* Definition of color scheme for fitted estimators */\n",
       "  --sklearn-color-fitted-level-0: #f0f8ff;\n",
       "  --sklearn-color-fitted-level-1: #d4ebff;\n",
       "  --sklearn-color-fitted-level-2: #b3dbfd;\n",
       "  --sklearn-color-fitted-level-3: cornflowerblue;\n",
       "\n",
       "  /* Specific color for light theme */\n",
       "  --sklearn-color-text-on-default-background: var(--sg-text-color, var(--theme-code-foreground, var(--jp-content-font-color1, black)));\n",
       "  --sklearn-color-background: var(--sg-background-color, var(--theme-background, var(--jp-layout-color0, white)));\n",
       "  --sklearn-color-border-box: var(--sg-text-color, var(--theme-code-foreground, var(--jp-content-font-color1, black)));\n",
       "  --sklearn-color-icon: #696969;\n",
       "\n",
       "  @media (prefers-color-scheme: dark) {\n",
       "    /* Redefinition of color scheme for dark theme */\n",
       "    --sklearn-color-text-on-default-background: var(--sg-text-color, var(--theme-code-foreground, var(--jp-content-font-color1, white)));\n",
       "    --sklearn-color-background: var(--sg-background-color, var(--theme-background, var(--jp-layout-color0, #111)));\n",
       "    --sklearn-color-border-box: var(--sg-text-color, var(--theme-code-foreground, var(--jp-content-font-color1, white)));\n",
       "    --sklearn-color-icon: #878787;\n",
       "  }\n",
       "}\n",
       "\n",
       "#sk-container-id-1 {\n",
       "  color: var(--sklearn-color-text);\n",
       "}\n",
       "\n",
       "#sk-container-id-1 pre {\n",
       "  padding: 0;\n",
       "}\n",
       "\n",
       "#sk-container-id-1 input.sk-hidden--visually {\n",
       "  border: 0;\n",
       "  clip: rect(1px 1px 1px 1px);\n",
       "  clip: rect(1px, 1px, 1px, 1px);\n",
       "  height: 1px;\n",
       "  margin: -1px;\n",
       "  overflow: hidden;\n",
       "  padding: 0;\n",
       "  position: absolute;\n",
       "  width: 1px;\n",
       "}\n",
       "\n",
       "#sk-container-id-1 div.sk-dashed-wrapped {\n",
       "  border: 1px dashed var(--sklearn-color-line);\n",
       "  margin: 0 0.4em 0.5em 0.4em;\n",
       "  box-sizing: border-box;\n",
       "  padding-bottom: 0.4em;\n",
       "  background-color: var(--sklearn-color-background);\n",
       "}\n",
       "\n",
       "#sk-container-id-1 div.sk-container {\n",
       "  /* jupyter's `normalize.less` sets `[hidden] { display: none; }`\n",
       "     but bootstrap.min.css set `[hidden] { display: none !important; }`\n",
       "     so we also need the `!important` here to be able to override the\n",
       "     default hidden behavior on the sphinx rendered scikit-learn.org.\n",
       "     See: https://github.com/scikit-learn/scikit-learn/issues/21755 */\n",
       "  display: inline-block !important;\n",
       "  position: relative;\n",
       "}\n",
       "\n",
       "#sk-container-id-1 div.sk-text-repr-fallback {\n",
       "  display: none;\n",
       "}\n",
       "\n",
       "div.sk-parallel-item,\n",
       "div.sk-serial,\n",
       "div.sk-item {\n",
       "  /* draw centered vertical line to link estimators */\n",
       "  background-image: linear-gradient(var(--sklearn-color-text-on-default-background), var(--sklearn-color-text-on-default-background));\n",
       "  background-size: 2px 100%;\n",
       "  background-repeat: no-repeat;\n",
       "  background-position: center center;\n",
       "}\n",
       "\n",
       "/* Parallel-specific style estimator block */\n",
       "\n",
       "#sk-container-id-1 div.sk-parallel-item::after {\n",
       "  content: \"\";\n",
       "  width: 100%;\n",
       "  border-bottom: 2px solid var(--sklearn-color-text-on-default-background);\n",
       "  flex-grow: 1;\n",
       "}\n",
       "\n",
       "#sk-container-id-1 div.sk-parallel {\n",
       "  display: flex;\n",
       "  align-items: stretch;\n",
       "  justify-content: center;\n",
       "  background-color: var(--sklearn-color-background);\n",
       "  position: relative;\n",
       "}\n",
       "\n",
       "#sk-container-id-1 div.sk-parallel-item {\n",
       "  display: flex;\n",
       "  flex-direction: column;\n",
       "}\n",
       "\n",
       "#sk-container-id-1 div.sk-parallel-item:first-child::after {\n",
       "  align-self: flex-end;\n",
       "  width: 50%;\n",
       "}\n",
       "\n",
       "#sk-container-id-1 div.sk-parallel-item:last-child::after {\n",
       "  align-self: flex-start;\n",
       "  width: 50%;\n",
       "}\n",
       "\n",
       "#sk-container-id-1 div.sk-parallel-item:only-child::after {\n",
       "  width: 0;\n",
       "}\n",
       "\n",
       "/* Serial-specific style estimator block */\n",
       "\n",
       "#sk-container-id-1 div.sk-serial {\n",
       "  display: flex;\n",
       "  flex-direction: column;\n",
       "  align-items: center;\n",
       "  background-color: var(--sklearn-color-background);\n",
       "  padding-right: 1em;\n",
       "  padding-left: 1em;\n",
       "}\n",
       "\n",
       "\n",
       "/* Toggleable style: style used for estimator/Pipeline/ColumnTransformer box that is\n",
       "clickable and can be expanded/collapsed.\n",
       "- Pipeline and ColumnTransformer use this feature and define the default style\n",
       "- Estimators will overwrite some part of the style using the `sk-estimator` class\n",
       "*/\n",
       "\n",
       "/* Pipeline and ColumnTransformer style (default) */\n",
       "\n",
       "#sk-container-id-1 div.sk-toggleable {\n",
       "  /* Default theme specific background. It is overwritten whether we have a\n",
       "  specific estimator or a Pipeline/ColumnTransformer */\n",
       "  background-color: var(--sklearn-color-background);\n",
       "}\n",
       "\n",
       "/* Toggleable label */\n",
       "#sk-container-id-1 label.sk-toggleable__label {\n",
       "  cursor: pointer;\n",
       "  display: flex;\n",
       "  width: 100%;\n",
       "  margin-bottom: 0;\n",
       "  padding: 0.5em;\n",
       "  box-sizing: border-box;\n",
       "  text-align: center;\n",
       "  align-items: start;\n",
       "  justify-content: space-between;\n",
       "  gap: 0.5em;\n",
       "}\n",
       "\n",
       "#sk-container-id-1 label.sk-toggleable__label .caption {\n",
       "  font-size: 0.6rem;\n",
       "  font-weight: lighter;\n",
       "  color: var(--sklearn-color-text-muted);\n",
       "}\n",
       "\n",
       "#sk-container-id-1 label.sk-toggleable__label-arrow:before {\n",
       "  /* Arrow on the left of the label */\n",
       "  content: \"▸\";\n",
       "  float: left;\n",
       "  margin-right: 0.25em;\n",
       "  color: var(--sklearn-color-icon);\n",
       "}\n",
       "\n",
       "#sk-container-id-1 label.sk-toggleable__label-arrow:hover:before {\n",
       "  color: var(--sklearn-color-text);\n",
       "}\n",
       "\n",
       "/* Toggleable content - dropdown */\n",
       "\n",
       "#sk-container-id-1 div.sk-toggleable__content {\n",
       "  max-height: 0;\n",
       "  max-width: 0;\n",
       "  overflow: hidden;\n",
       "  text-align: left;\n",
       "  /* unfitted */\n",
       "  background-color: var(--sklearn-color-unfitted-level-0);\n",
       "}\n",
       "\n",
       "#sk-container-id-1 div.sk-toggleable__content.fitted {\n",
       "  /* fitted */\n",
       "  background-color: var(--sklearn-color-fitted-level-0);\n",
       "}\n",
       "\n",
       "#sk-container-id-1 div.sk-toggleable__content pre {\n",
       "  margin: 0.2em;\n",
       "  border-radius: 0.25em;\n",
       "  color: var(--sklearn-color-text);\n",
       "  /* unfitted */\n",
       "  background-color: var(--sklearn-color-unfitted-level-0);\n",
       "}\n",
       "\n",
       "#sk-container-id-1 div.sk-toggleable__content.fitted pre {\n",
       "  /* unfitted */\n",
       "  background-color: var(--sklearn-color-fitted-level-0);\n",
       "}\n",
       "\n",
       "#sk-container-id-1 input.sk-toggleable__control:checked~div.sk-toggleable__content {\n",
       "  /* Expand drop-down */\n",
       "  max-height: 200px;\n",
       "  max-width: 100%;\n",
       "  overflow: auto;\n",
       "}\n",
       "\n",
       "#sk-container-id-1 input.sk-toggleable__control:checked~label.sk-toggleable__label-arrow:before {\n",
       "  content: \"▾\";\n",
       "}\n",
       "\n",
       "/* Pipeline/ColumnTransformer-specific style */\n",
       "\n",
       "#sk-container-id-1 div.sk-label input.sk-toggleable__control:checked~label.sk-toggleable__label {\n",
       "  color: var(--sklearn-color-text);\n",
       "  background-color: var(--sklearn-color-unfitted-level-2);\n",
       "}\n",
       "\n",
       "#sk-container-id-1 div.sk-label.fitted input.sk-toggleable__control:checked~label.sk-toggleable__label {\n",
       "  background-color: var(--sklearn-color-fitted-level-2);\n",
       "}\n",
       "\n",
       "/* Estimator-specific style */\n",
       "\n",
       "/* Colorize estimator box */\n",
       "#sk-container-id-1 div.sk-estimator input.sk-toggleable__control:checked~label.sk-toggleable__label {\n",
       "  /* unfitted */\n",
       "  background-color: var(--sklearn-color-unfitted-level-2);\n",
       "}\n",
       "\n",
       "#sk-container-id-1 div.sk-estimator.fitted input.sk-toggleable__control:checked~label.sk-toggleable__label {\n",
       "  /* fitted */\n",
       "  background-color: var(--sklearn-color-fitted-level-2);\n",
       "}\n",
       "\n",
       "#sk-container-id-1 div.sk-label label.sk-toggleable__label,\n",
       "#sk-container-id-1 div.sk-label label {\n",
       "  /* The background is the default theme color */\n",
       "  color: var(--sklearn-color-text-on-default-background);\n",
       "}\n",
       "\n",
       "/* On hover, darken the color of the background */\n",
       "#sk-container-id-1 div.sk-label:hover label.sk-toggleable__label {\n",
       "  color: var(--sklearn-color-text);\n",
       "  background-color: var(--sklearn-color-unfitted-level-2);\n",
       "}\n",
       "\n",
       "/* Label box, darken color on hover, fitted */\n",
       "#sk-container-id-1 div.sk-label.fitted:hover label.sk-toggleable__label.fitted {\n",
       "  color: var(--sklearn-color-text);\n",
       "  background-color: var(--sklearn-color-fitted-level-2);\n",
       "}\n",
       "\n",
       "/* Estimator label */\n",
       "\n",
       "#sk-container-id-1 div.sk-label label {\n",
       "  font-family: monospace;\n",
       "  font-weight: bold;\n",
       "  display: inline-block;\n",
       "  line-height: 1.2em;\n",
       "}\n",
       "\n",
       "#sk-container-id-1 div.sk-label-container {\n",
       "  text-align: center;\n",
       "}\n",
       "\n",
       "/* Estimator-specific */\n",
       "#sk-container-id-1 div.sk-estimator {\n",
       "  font-family: monospace;\n",
       "  border: 1px dotted var(--sklearn-color-border-box);\n",
       "  border-radius: 0.25em;\n",
       "  box-sizing: border-box;\n",
       "  margin-bottom: 0.5em;\n",
       "  /* unfitted */\n",
       "  background-color: var(--sklearn-color-unfitted-level-0);\n",
       "}\n",
       "\n",
       "#sk-container-id-1 div.sk-estimator.fitted {\n",
       "  /* fitted */\n",
       "  background-color: var(--sklearn-color-fitted-level-0);\n",
       "}\n",
       "\n",
       "/* on hover */\n",
       "#sk-container-id-1 div.sk-estimator:hover {\n",
       "  /* unfitted */\n",
       "  background-color: var(--sklearn-color-unfitted-level-2);\n",
       "}\n",
       "\n",
       "#sk-container-id-1 div.sk-estimator.fitted:hover {\n",
       "  /* fitted */\n",
       "  background-color: var(--sklearn-color-fitted-level-2);\n",
       "}\n",
       "\n",
       "/* Specification for estimator info (e.g. \"i\" and \"?\") */\n",
       "\n",
       "/* Common style for \"i\" and \"?\" */\n",
       "\n",
       ".sk-estimator-doc-link,\n",
       "a:link.sk-estimator-doc-link,\n",
       "a:visited.sk-estimator-doc-link {\n",
       "  float: right;\n",
       "  font-size: smaller;\n",
       "  line-height: 1em;\n",
       "  font-family: monospace;\n",
       "  background-color: var(--sklearn-color-background);\n",
       "  border-radius: 1em;\n",
       "  height: 1em;\n",
       "  width: 1em;\n",
       "  text-decoration: none !important;\n",
       "  margin-left: 0.5em;\n",
       "  text-align: center;\n",
       "  /* unfitted */\n",
       "  border: var(--sklearn-color-unfitted-level-1) 1pt solid;\n",
       "  color: var(--sklearn-color-unfitted-level-1);\n",
       "}\n",
       "\n",
       ".sk-estimator-doc-link.fitted,\n",
       "a:link.sk-estimator-doc-link.fitted,\n",
       "a:visited.sk-estimator-doc-link.fitted {\n",
       "  /* fitted */\n",
       "  border: var(--sklearn-color-fitted-level-1) 1pt solid;\n",
       "  color: var(--sklearn-color-fitted-level-1);\n",
       "}\n",
       "\n",
       "/* On hover */\n",
       "div.sk-estimator:hover .sk-estimator-doc-link:hover,\n",
       ".sk-estimator-doc-link:hover,\n",
       "div.sk-label-container:hover .sk-estimator-doc-link:hover,\n",
       ".sk-estimator-doc-link:hover {\n",
       "  /* unfitted */\n",
       "  background-color: var(--sklearn-color-unfitted-level-3);\n",
       "  color: var(--sklearn-color-background);\n",
       "  text-decoration: none;\n",
       "}\n",
       "\n",
       "div.sk-estimator.fitted:hover .sk-estimator-doc-link.fitted:hover,\n",
       ".sk-estimator-doc-link.fitted:hover,\n",
       "div.sk-label-container:hover .sk-estimator-doc-link.fitted:hover,\n",
       ".sk-estimator-doc-link.fitted:hover {\n",
       "  /* fitted */\n",
       "  background-color: var(--sklearn-color-fitted-level-3);\n",
       "  color: var(--sklearn-color-background);\n",
       "  text-decoration: none;\n",
       "}\n",
       "\n",
       "/* Span, style for the box shown on hovering the info icon */\n",
       ".sk-estimator-doc-link span {\n",
       "  display: none;\n",
       "  z-index: 9999;\n",
       "  position: relative;\n",
       "  font-weight: normal;\n",
       "  right: .2ex;\n",
       "  padding: .5ex;\n",
       "  margin: .5ex;\n",
       "  width: min-content;\n",
       "  min-width: 20ex;\n",
       "  max-width: 50ex;\n",
       "  color: var(--sklearn-color-text);\n",
       "  box-shadow: 2pt 2pt 4pt #999;\n",
       "  /* unfitted */\n",
       "  background: var(--sklearn-color-unfitted-level-0);\n",
       "  border: .5pt solid var(--sklearn-color-unfitted-level-3);\n",
       "}\n",
       "\n",
       ".sk-estimator-doc-link.fitted span {\n",
       "  /* fitted */\n",
       "  background: var(--sklearn-color-fitted-level-0);\n",
       "  border: var(--sklearn-color-fitted-level-3);\n",
       "}\n",
       "\n",
       ".sk-estimator-doc-link:hover span {\n",
       "  display: block;\n",
       "}\n",
       "\n",
       "/* \"?\"-specific style due to the `<a>` HTML tag */\n",
       "\n",
       "#sk-container-id-1 a.estimator_doc_link {\n",
       "  float: right;\n",
       "  font-size: 1rem;\n",
       "  line-height: 1em;\n",
       "  font-family: monospace;\n",
       "  background-color: var(--sklearn-color-background);\n",
       "  border-radius: 1rem;\n",
       "  height: 1rem;\n",
       "  width: 1rem;\n",
       "  text-decoration: none;\n",
       "  /* unfitted */\n",
       "  color: var(--sklearn-color-unfitted-level-1);\n",
       "  border: var(--sklearn-color-unfitted-level-1) 1pt solid;\n",
       "}\n",
       "\n",
       "#sk-container-id-1 a.estimator_doc_link.fitted {\n",
       "  /* fitted */\n",
       "  border: var(--sklearn-color-fitted-level-1) 1pt solid;\n",
       "  color: var(--sklearn-color-fitted-level-1);\n",
       "}\n",
       "\n",
       "/* On hover */\n",
       "#sk-container-id-1 a.estimator_doc_link:hover {\n",
       "  /* unfitted */\n",
       "  background-color: var(--sklearn-color-unfitted-level-3);\n",
       "  color: var(--sklearn-color-background);\n",
       "  text-decoration: none;\n",
       "}\n",
       "\n",
       "#sk-container-id-1 a.estimator_doc_link.fitted:hover {\n",
       "  /* fitted */\n",
       "  background-color: var(--sklearn-color-fitted-level-3);\n",
       "}\n",
       "</style><div id=\"sk-container-id-1\" class=\"sk-top-container\"><div class=\"sk-text-repr-fallback\"><pre>RollingForecastCV(h=30, initial=1614, step=15)</pre><b>In a Jupyter environment, please rerun this cell to show the HTML representation or trust the notebook. <br />On GitHub, the HTML representation is unable to render, please try loading this page with nbviewer.org.</b></div><div class=\"sk-container\" hidden><div class=\"sk-item\"><div class=\"sk-estimator  sk-toggleable\"><input class=\"sk-toggleable__control sk-hidden--visually\" id=\"sk-estimator-id-1\" type=\"checkbox\" checked><label for=\"sk-estimator-id-1\" class=\"sk-toggleable__label  sk-toggleable__label-arrow\"><div><div>RollingForecastCV</div></div><div><span class=\"sk-estimator-doc-link \">i<span>Not fitted</span></span></div></label><div class=\"sk-toggleable__content \"><pre>RollingForecastCV(h=30, initial=1614, step=15)</pre></div> </div></div></div></div>"
      ],
      "text/plain": [
       "RollingForecastCV(h=30, initial=1614, step=15)"
      ]
     },
     "execution_count": 40,
     "metadata": {},
     "output_type": "execute_result"
    }
   ],
   "source": [
    "cv"
   ]
  },
  {
   "cell_type": "code",
   "execution_count": 41,
   "id": "17420775",
   "metadata": {},
   "outputs": [
    {
     "name": "stdout",
     "output_type": "stream",
     "text": [
      "[CV] fold=0 ..........................................................\n",
      "fold=0, score=11499692823306.211 [time=4.240 sec]\n",
      "[CV] fold=1 ..........................................................\n",
      "fold=1, score=13766812230769.494 [time=3.879 sec]\n",
      "[CV] fold=2 ..........................................................\n",
      "fold=2, score=11817773563471.166 [time=4.255 sec]\n",
      "[CV] fold=3 ..........................................................\n",
      "fold=3, score=1170198510680.112 [time=3.828 sec]\n",
      "[CV] fold=4 ..........................................................\n",
      "fold=4, score=842628186815.063 [time=3.938 sec]\n",
      "[CV] fold=5 ..........................................................\n",
      "fold=5, score=7220574699561.496 [time=3.593 sec]\n",
      "[CV] fold=6 ..........................................................\n",
      "fold=6, score=12408286211959.834 [time=3.811 sec]\n",
      "[CV] fold=7 ..........................................................\n",
      "fold=7, score=5885740665578.707 [time=4.336 sec]\n",
      "[CV] fold=8 ..........................................................\n",
      "fold=8, score=29910169622222.246 [time=4.623 sec]\n",
      "[CV] fold=9 ..........................................................\n",
      "fold=9, score=11027336529689.438 [time=4.327 sec]\n",
      "[CV] fold=10 .........................................................\n",
      "fold=10, score=108239007250251.094 [time=4.276 sec]\n"
     ]
    }
   ],
   "source": [
    "cv_score = model_selection.cross_val_score(\n",
    "    estimator=model_cv, y=df[\"y\"], X=exog, scoring=\"mean_squared_error\", verbose=1000, cv = cv\n",
    ")"
   ]
  },
  {
   "cell_type": "code",
   "execution_count": 42,
   "id": "b6e3fdb6",
   "metadata": {},
   "outputs": [
    {
     "data": {
      "text/plain": [
       "array([1.14996928e+13, 1.37668122e+13, 1.18177736e+13, 1.17019851e+12,\n",
       "       8.42628187e+11, 7.22057470e+12, 1.24082862e+13, 5.88574067e+12,\n",
       "       2.99101696e+13, 1.10273365e+13, 1.08239007e+14])"
      ]
     },
     "execution_count": 42,
     "metadata": {},
     "output_type": "execute_result"
    }
   ],
   "source": [
    "cv_score"
   ]
  },
  {
   "cell_type": "code",
   "execution_count": 43,
   "id": "6cb9aca7",
   "metadata": {},
   "outputs": [
    {
     "name": "stdout",
     "output_type": "stream",
     "text": [
      "The cross validation rmse is 4408547.692157556\n"
     ]
    }
   ],
   "source": [
    "rmse = np.sqrt(np.mean(cv_score))\n",
    "\n",
    "print(f\"The cross validation rmse is {rmse}\")"
   ]
  },
  {
   "cell_type": "markdown",
   "id": "b1a946b8",
   "metadata": {},
   "source": [
    "## Parameter Tuning "
   ]
  },
  {
   "cell_type": "code",
   "execution_count": 44,
   "id": "9391556b",
   "metadata": {},
   "outputs": [],
   "source": [
    "param_grid = {\n",
    "    \"p\": [1, 2, 3],\n",
    "    \"d\": [0, 1],\n",
    "    \"q\": [1, 2, 3],\n",
    "    \"P\": [1, 2],\n",
    "    \"D\": [0],\n",
    "    \"Q\": [1, 2],\n",
    "    'm': [7,12]\n",
    "}\n",
    "\n",
    "grid = list(ParameterGrid(param_grid))[:3]"
   ]
  },
  {
   "cell_type": "code",
   "execution_count": 45,
   "id": "657c99b1",
   "metadata": {},
   "outputs": [],
   "source": [
    "from tqdm.auto import tqdm "
   ]
  },
  {
   "cell_type": "code",
   "execution_count": 46,
   "id": "4a8b907c",
   "metadata": {},
   "outputs": [
    {
     "data": {
      "application/vnd.jupyter.widget-view+json": {
       "model_id": "a32b57d00a4d4552a3d97e85e40cfed3",
       "version_major": 2,
       "version_minor": 0
      },
      "text/plain": [
       "  0%|          | 0/3 [00:00<?, ?it/s]"
      ]
     },
     "metadata": {},
     "output_type": "display_data"
    },
    {
     "name": "stdout",
     "output_type": "stream",
     "text": [
      "[CV] fold=0 ..........................................................\n",
      "fold=0, score=6497543706540.314 [time=0.537 sec]\n",
      "[CV] fold=1 ..........................................................\n",
      "fold=1, score=14557199441789.023 [time=0.492 sec]\n",
      "[CV] fold=2 ..........................................................\n",
      "fold=2, score=14539988302100.279 [time=0.475 sec]\n",
      "[CV] fold=3 ..........................................................\n",
      "fold=3, score=7396786486991.533 [time=0.509 sec]\n",
      "[CV] fold=4 ..........................................................\n",
      "fold=4, score=6309788023662.135 [time=0.477 sec]\n",
      "[CV] fold=5 ..........................................................\n",
      "fold=5, score=2755785616460.343 [time=0.525 sec]\n",
      "[CV] fold=6 ..........................................................\n",
      "fold=6, score=14878183365632.305 [time=0.493 sec]\n",
      "[CV] fold=7 ..........................................................\n",
      "fold=7, score=9117441434699.812 [time=0.493 sec]\n",
      "[CV] fold=8 ..........................................................\n",
      "fold=8, score=5281198420665.251 [time=0.540 sec]\n",
      "[CV] fold=9 ..........................................................\n",
      "fold=9, score=4804854373970.096 [time=0.509 sec]\n",
      "[CV] fold=10 .........................................................\n",
      "fold=10, score=95561517367351.500 [time=0.525 sec]\n",
      "[CV] fold=0 ..........................................................\n",
      "fold=0, score=6983697446328.849 [time=0.968 sec]\n",
      "[CV] fold=1 ..........................................................\n",
      "fold=1, score=14417369687263.164 [time=1.001 sec]\n",
      "[CV] fold=2 ..........................................................\n",
      "fold=2, score=13796310991737.814 [time=1.116 sec]\n",
      "[CV] fold=3 ..........................................................\n",
      "fold=3, score=6045040687086.056 [time=0.920 sec]\n",
      "[CV] fold=4 ..........................................................\n",
      "fold=4, score=5709568042311.361 [time=0.912 sec]\n",
      "[CV] fold=5 ..........................................................\n",
      "fold=5, score=2840069662739.368 [time=0.969 sec]\n",
      "[CV] fold=6 ..........................................................\n",
      "fold=6, score=13809573950668.648 [time=1.146 sec]\n",
      "[CV] fold=7 ..........................................................\n",
      "fold=7, score=7971299392186.412 [time=1.078 sec]\n",
      "[CV] fold=8 ..........................................................\n",
      "fold=8, score=7317565751750.129 [time=1.033 sec]\n",
      "[CV] fold=9 ..........................................................\n",
      "fold=9, score=4992759972734.293 [time=1.032 sec]\n",
      "[CV] fold=10 .........................................................\n",
      "fold=10, score=96226616931093.844 [time=1.017 sec]\n",
      "[CV] fold=0 ..........................................................\n",
      "fold=0, score=6910603989972.298 [time=1.748 sec]\n",
      "[CV] fold=1 ..........................................................\n",
      "fold=1, score=14461032093893.441 [time=1.518 sec]\n",
      "[CV] fold=2 ..........................................................\n",
      "fold=2, score=13481499502336.168 [time=1.794 sec]\n",
      "[CV] fold=3 ..........................................................\n",
      "fold=3, score=5468902940507.881 [time=1.861 sec]\n",
      "[CV] fold=4 ..........................................................\n",
      "fold=4, score=4858933794676.637 [time=1.878 sec]\n",
      "[CV] fold=5 ..........................................................\n",
      "fold=5, score=3237784722292.156 [time=2.033 sec]\n",
      "[CV] fold=6 ..........................................................\n",
      "fold=6, score=15141431018645.955 [time=1.729 sec]\n",
      "[CV] fold=7 ..........................................................\n",
      "fold=7, score=8341981939913.850 [time=1.812 sec]\n",
      "[CV] fold=8 ..........................................................\n",
      "fold=8, score=6587848344559.740 [time=1.841 sec]\n",
      "[CV] fold=9 ..........................................................\n",
      "fold=9, score=4835892259374.230 [time=1.969 sec]\n",
      "[CV] fold=10 .........................................................\n",
      "fold=10, score=96875681509364.250 [time=2.002 sec]\n"
     ]
    }
   ],
   "source": [
    "# Parameter Tuning Loop\n",
    "\n",
    "rmse_list = []\n",
    "\n",
    "for params in tqdm(grid):\n",
    "\n",
    "    # Build the model with set of params\n",
    "    model_cv = ARIMA(\n",
    "        order=(params[\"p\"], params[\"d\"], params[\"q\"]),\n",
    "        seasonal_order=(params[\"P\"], params[\"D\"], params[\"Q\"], params[\"m\"]),\n",
    "    )\n",
    "\n",
    "    # Evaluate the model\n",
    "    cv = model_selection.RollingForecastCV(h=30, step=15, initial=df.shape[0] - 180)\n",
    "    cv_score = model_selection.cross_val_score(\n",
    "        estimator=model_cv,\n",
    "        y=df[\"y\"],\n",
    "        X=exog,\n",
    "        scoring=\"mean_squared_error\",\n",
    "        verbose=1000,\n",
    "        cv=cv,\n",
    "    )\n",
    "\n",
    "    rmse = np.sqrt(np.mean(cv_score))\n",
    "\n",
    "    # Store the model\n",
    "\n",
    "    rmse_list.append(rmse)"
   ]
  },
  {
   "cell_type": "code",
   "execution_count": 47,
   "id": "e74bf1a4",
   "metadata": {},
   "outputs": [
    {
     "data": {
      "text/plain": [
       "[4064259.817883231, 4046433.587021134, 4047463.7638395526]"
      ]
     },
     "execution_count": 47,
     "metadata": {},
     "output_type": "execute_result"
    }
   ],
   "source": [
    "rmse_list"
   ]
  },
  {
   "cell_type": "code",
   "execution_count": 48,
   "id": "bcbf1ef0",
   "metadata": {},
   "outputs": [],
   "source": [
    "tuning_results = pd.DataFrame(grid)\n",
    "tuning_results['rmse'] = rmse_list"
   ]
  },
  {
   "cell_type": "code",
   "execution_count": 49,
   "id": "a0dad739",
   "metadata": {},
   "outputs": [
    {
     "data": {
      "application/vnd.microsoft.datawrangler.viewer.v0+json": {
       "columns": [
        {
         "name": "index",
         "rawType": "int64",
         "type": "integer"
        },
        {
         "name": "D",
         "rawType": "int64",
         "type": "integer"
        },
        {
         "name": "P",
         "rawType": "int64",
         "type": "integer"
        },
        {
         "name": "Q",
         "rawType": "int64",
         "type": "integer"
        },
        {
         "name": "d",
         "rawType": "int64",
         "type": "integer"
        },
        {
         "name": "m",
         "rawType": "int64",
         "type": "integer"
        },
        {
         "name": "p",
         "rawType": "int64",
         "type": "integer"
        },
        {
         "name": "q",
         "rawType": "int64",
         "type": "integer"
        },
        {
         "name": "rmse",
         "rawType": "float64",
         "type": "float"
        }
       ],
       "ref": "cc29788a-157c-485f-be76-2fee058c571f",
       "rows": [
        [
         "0",
         "0",
         "1",
         "1",
         "0",
         "7",
         "1",
         "1",
         "4064259.817883231"
        ],
        [
         "1",
         "0",
         "1",
         "1",
         "0",
         "7",
         "1",
         "2",
         "4046433.587021134"
        ],
        [
         "2",
         "0",
         "1",
         "1",
         "0",
         "7",
         "1",
         "3",
         "4047463.7638395526"
        ]
       ],
       "shape": {
        "columns": 8,
        "rows": 3
       }
      },
      "text/html": [
       "<div>\n",
       "<style scoped>\n",
       "    .dataframe tbody tr th:only-of-type {\n",
       "        vertical-align: middle;\n",
       "    }\n",
       "\n",
       "    .dataframe tbody tr th {\n",
       "        vertical-align: top;\n",
       "    }\n",
       "\n",
       "    .dataframe thead th {\n",
       "        text-align: right;\n",
       "    }\n",
       "</style>\n",
       "<table border=\"1\" class=\"dataframe\">\n",
       "  <thead>\n",
       "    <tr style=\"text-align: right;\">\n",
       "      <th></th>\n",
       "      <th>D</th>\n",
       "      <th>P</th>\n",
       "      <th>Q</th>\n",
       "      <th>d</th>\n",
       "      <th>m</th>\n",
       "      <th>p</th>\n",
       "      <th>q</th>\n",
       "      <th>rmse</th>\n",
       "    </tr>\n",
       "  </thead>\n",
       "  <tbody>\n",
       "    <tr>\n",
       "      <th>0</th>\n",
       "      <td>0</td>\n",
       "      <td>1</td>\n",
       "      <td>1</td>\n",
       "      <td>0</td>\n",
       "      <td>7</td>\n",
       "      <td>1</td>\n",
       "      <td>1</td>\n",
       "      <td>4.064260e+06</td>\n",
       "    </tr>\n",
       "    <tr>\n",
       "      <th>1</th>\n",
       "      <td>0</td>\n",
       "      <td>1</td>\n",
       "      <td>1</td>\n",
       "      <td>0</td>\n",
       "      <td>7</td>\n",
       "      <td>1</td>\n",
       "      <td>2</td>\n",
       "      <td>4.046434e+06</td>\n",
       "    </tr>\n",
       "    <tr>\n",
       "      <th>2</th>\n",
       "      <td>0</td>\n",
       "      <td>1</td>\n",
       "      <td>1</td>\n",
       "      <td>0</td>\n",
       "      <td>7</td>\n",
       "      <td>1</td>\n",
       "      <td>3</td>\n",
       "      <td>4.047464e+06</td>\n",
       "    </tr>\n",
       "  </tbody>\n",
       "</table>\n",
       "</div>"
      ],
      "text/plain": [
       "   D  P  Q  d  m  p  q          rmse\n",
       "0  0  1  1  0  7  1  1  4.064260e+06\n",
       "1  0  1  1  0  7  1  2  4.046434e+06\n",
       "2  0  1  1  0  7  1  3  4.047464e+06"
      ]
     },
     "execution_count": 49,
     "metadata": {},
     "output_type": "execute_result"
    }
   ],
   "source": [
    "tuning_results"
   ]
  },
  {
   "cell_type": "code",
   "execution_count": 50,
   "id": "509278c3",
   "metadata": {},
   "outputs": [],
   "source": [
    "best_params = tuning_results.iloc[tuning_results['rmse'].idxmin()]"
   ]
  },
  {
   "cell_type": "code",
   "execution_count": 55,
   "id": "96bbb12d",
   "metadata": {},
   "outputs": [],
   "source": [
    "y = df['y']\n",
    "\n",
    "X = df.iloc[:,1:3]"
   ]
  },
  {
   "cell_type": "code",
   "execution_count": 60,
   "id": "a23f37dc",
   "metadata": {},
   "outputs": [],
   "source": [
    "params = best_params.astype(int).to_dict()"
   ]
  },
  {
   "cell_type": "code",
   "execution_count": null,
   "id": "e67c34ab",
   "metadata": {},
   "outputs": [],
   "source": [
    "p, d, q, P, D, Q, m = (\n",
    "    params[\"p\"],\n",
    "    params[\"d\"],\n",
    "    params[\"q\"],\n",
    "    params[\"P\"],\n",
    "    params[\"D\"],\n",
    "    params[\"Q\"],\n",
    "    params[\"m\"],\n",
    ")"
   ]
  },
  {
   "cell_type": "code",
   "execution_count": 74,
   "id": "18d06c30",
   "metadata": {},
   "outputs": [],
   "source": [
    "df_future = pd.read_csv(r'C:\\Users\\siddharth\\Desktop\\Python-Time-Series-Forecasting\\Python - Time Series Forecasting\\Time Series Analysis\\ARIMA, SARIMA and SARIMAX\\future_regressors.csv')\n",
    "df_future['date'] = pd.to_datetime(df_future['date'], format = \"%d/%m/%Y\")\n",
    "df_future.set_index('date', inplace=True)"
   ]
  },
  {
   "cell_type": "code",
   "execution_count": 75,
   "id": "15850b54",
   "metadata": {},
   "outputs": [],
   "source": [
    "X_future = df_future.iloc[:,1:3] * 100"
   ]
  },
  {
   "cell_type": "code",
   "execution_count": 78,
   "id": "5918272f",
   "metadata": {},
   "outputs": [
    {
     "data": {
      "text/html": [
       "<style>#sk-container-id-2 {\n",
       "  /* Definition of color scheme common for light and dark mode */\n",
       "  --sklearn-color-text: #000;\n",
       "  --sklearn-color-text-muted: #666;\n",
       "  --sklearn-color-line: gray;\n",
       "  /* Definition of color scheme for unfitted estimators */\n",
       "  --sklearn-color-unfitted-level-0: #fff5e6;\n",
       "  --sklearn-color-unfitted-level-1: #f6e4d2;\n",
       "  --sklearn-color-unfitted-level-2: #ffe0b3;\n",
       "  --sklearn-color-unfitted-level-3: chocolate;\n",
       "  /* Definition of color scheme for fitted estimators */\n",
       "  --sklearn-color-fitted-level-0: #f0f8ff;\n",
       "  --sklearn-color-fitted-level-1: #d4ebff;\n",
       "  --sklearn-color-fitted-level-2: #b3dbfd;\n",
       "  --sklearn-color-fitted-level-3: cornflowerblue;\n",
       "\n",
       "  /* Specific color for light theme */\n",
       "  --sklearn-color-text-on-default-background: var(--sg-text-color, var(--theme-code-foreground, var(--jp-content-font-color1, black)));\n",
       "  --sklearn-color-background: var(--sg-background-color, var(--theme-background, var(--jp-layout-color0, white)));\n",
       "  --sklearn-color-border-box: var(--sg-text-color, var(--theme-code-foreground, var(--jp-content-font-color1, black)));\n",
       "  --sklearn-color-icon: #696969;\n",
       "\n",
       "  @media (prefers-color-scheme: dark) {\n",
       "    /* Redefinition of color scheme for dark theme */\n",
       "    --sklearn-color-text-on-default-background: var(--sg-text-color, var(--theme-code-foreground, var(--jp-content-font-color1, white)));\n",
       "    --sklearn-color-background: var(--sg-background-color, var(--theme-background, var(--jp-layout-color0, #111)));\n",
       "    --sklearn-color-border-box: var(--sg-text-color, var(--theme-code-foreground, var(--jp-content-font-color1, white)));\n",
       "    --sklearn-color-icon: #878787;\n",
       "  }\n",
       "}\n",
       "\n",
       "#sk-container-id-2 {\n",
       "  color: var(--sklearn-color-text);\n",
       "}\n",
       "\n",
       "#sk-container-id-2 pre {\n",
       "  padding: 0;\n",
       "}\n",
       "\n",
       "#sk-container-id-2 input.sk-hidden--visually {\n",
       "  border: 0;\n",
       "  clip: rect(1px 1px 1px 1px);\n",
       "  clip: rect(1px, 1px, 1px, 1px);\n",
       "  height: 1px;\n",
       "  margin: -1px;\n",
       "  overflow: hidden;\n",
       "  padding: 0;\n",
       "  position: absolute;\n",
       "  width: 1px;\n",
       "}\n",
       "\n",
       "#sk-container-id-2 div.sk-dashed-wrapped {\n",
       "  border: 1px dashed var(--sklearn-color-line);\n",
       "  margin: 0 0.4em 0.5em 0.4em;\n",
       "  box-sizing: border-box;\n",
       "  padding-bottom: 0.4em;\n",
       "  background-color: var(--sklearn-color-background);\n",
       "}\n",
       "\n",
       "#sk-container-id-2 div.sk-container {\n",
       "  /* jupyter's `normalize.less` sets `[hidden] { display: none; }`\n",
       "     but bootstrap.min.css set `[hidden] { display: none !important; }`\n",
       "     so we also need the `!important` here to be able to override the\n",
       "     default hidden behavior on the sphinx rendered scikit-learn.org.\n",
       "     See: https://github.com/scikit-learn/scikit-learn/issues/21755 */\n",
       "  display: inline-block !important;\n",
       "  position: relative;\n",
       "}\n",
       "\n",
       "#sk-container-id-2 div.sk-text-repr-fallback {\n",
       "  display: none;\n",
       "}\n",
       "\n",
       "div.sk-parallel-item,\n",
       "div.sk-serial,\n",
       "div.sk-item {\n",
       "  /* draw centered vertical line to link estimators */\n",
       "  background-image: linear-gradient(var(--sklearn-color-text-on-default-background), var(--sklearn-color-text-on-default-background));\n",
       "  background-size: 2px 100%;\n",
       "  background-repeat: no-repeat;\n",
       "  background-position: center center;\n",
       "}\n",
       "\n",
       "/* Parallel-specific style estimator block */\n",
       "\n",
       "#sk-container-id-2 div.sk-parallel-item::after {\n",
       "  content: \"\";\n",
       "  width: 100%;\n",
       "  border-bottom: 2px solid var(--sklearn-color-text-on-default-background);\n",
       "  flex-grow: 1;\n",
       "}\n",
       "\n",
       "#sk-container-id-2 div.sk-parallel {\n",
       "  display: flex;\n",
       "  align-items: stretch;\n",
       "  justify-content: center;\n",
       "  background-color: var(--sklearn-color-background);\n",
       "  position: relative;\n",
       "}\n",
       "\n",
       "#sk-container-id-2 div.sk-parallel-item {\n",
       "  display: flex;\n",
       "  flex-direction: column;\n",
       "}\n",
       "\n",
       "#sk-container-id-2 div.sk-parallel-item:first-child::after {\n",
       "  align-self: flex-end;\n",
       "  width: 50%;\n",
       "}\n",
       "\n",
       "#sk-container-id-2 div.sk-parallel-item:last-child::after {\n",
       "  align-self: flex-start;\n",
       "  width: 50%;\n",
       "}\n",
       "\n",
       "#sk-container-id-2 div.sk-parallel-item:only-child::after {\n",
       "  width: 0;\n",
       "}\n",
       "\n",
       "/* Serial-specific style estimator block */\n",
       "\n",
       "#sk-container-id-2 div.sk-serial {\n",
       "  display: flex;\n",
       "  flex-direction: column;\n",
       "  align-items: center;\n",
       "  background-color: var(--sklearn-color-background);\n",
       "  padding-right: 1em;\n",
       "  padding-left: 1em;\n",
       "}\n",
       "\n",
       "\n",
       "/* Toggleable style: style used for estimator/Pipeline/ColumnTransformer box that is\n",
       "clickable and can be expanded/collapsed.\n",
       "- Pipeline and ColumnTransformer use this feature and define the default style\n",
       "- Estimators will overwrite some part of the style using the `sk-estimator` class\n",
       "*/\n",
       "\n",
       "/* Pipeline and ColumnTransformer style (default) */\n",
       "\n",
       "#sk-container-id-2 div.sk-toggleable {\n",
       "  /* Default theme specific background. It is overwritten whether we have a\n",
       "  specific estimator or a Pipeline/ColumnTransformer */\n",
       "  background-color: var(--sklearn-color-background);\n",
       "}\n",
       "\n",
       "/* Toggleable label */\n",
       "#sk-container-id-2 label.sk-toggleable__label {\n",
       "  cursor: pointer;\n",
       "  display: flex;\n",
       "  width: 100%;\n",
       "  margin-bottom: 0;\n",
       "  padding: 0.5em;\n",
       "  box-sizing: border-box;\n",
       "  text-align: center;\n",
       "  align-items: start;\n",
       "  justify-content: space-between;\n",
       "  gap: 0.5em;\n",
       "}\n",
       "\n",
       "#sk-container-id-2 label.sk-toggleable__label .caption {\n",
       "  font-size: 0.6rem;\n",
       "  font-weight: lighter;\n",
       "  color: var(--sklearn-color-text-muted);\n",
       "}\n",
       "\n",
       "#sk-container-id-2 label.sk-toggleable__label-arrow:before {\n",
       "  /* Arrow on the left of the label */\n",
       "  content: \"▸\";\n",
       "  float: left;\n",
       "  margin-right: 0.25em;\n",
       "  color: var(--sklearn-color-icon);\n",
       "}\n",
       "\n",
       "#sk-container-id-2 label.sk-toggleable__label-arrow:hover:before {\n",
       "  color: var(--sklearn-color-text);\n",
       "}\n",
       "\n",
       "/* Toggleable content - dropdown */\n",
       "\n",
       "#sk-container-id-2 div.sk-toggleable__content {\n",
       "  max-height: 0;\n",
       "  max-width: 0;\n",
       "  overflow: hidden;\n",
       "  text-align: left;\n",
       "  /* unfitted */\n",
       "  background-color: var(--sklearn-color-unfitted-level-0);\n",
       "}\n",
       "\n",
       "#sk-container-id-2 div.sk-toggleable__content.fitted {\n",
       "  /* fitted */\n",
       "  background-color: var(--sklearn-color-fitted-level-0);\n",
       "}\n",
       "\n",
       "#sk-container-id-2 div.sk-toggleable__content pre {\n",
       "  margin: 0.2em;\n",
       "  border-radius: 0.25em;\n",
       "  color: var(--sklearn-color-text);\n",
       "  /* unfitted */\n",
       "  background-color: var(--sklearn-color-unfitted-level-0);\n",
       "}\n",
       "\n",
       "#sk-container-id-2 div.sk-toggleable__content.fitted pre {\n",
       "  /* unfitted */\n",
       "  background-color: var(--sklearn-color-fitted-level-0);\n",
       "}\n",
       "\n",
       "#sk-container-id-2 input.sk-toggleable__control:checked~div.sk-toggleable__content {\n",
       "  /* Expand drop-down */\n",
       "  max-height: 200px;\n",
       "  max-width: 100%;\n",
       "  overflow: auto;\n",
       "}\n",
       "\n",
       "#sk-container-id-2 input.sk-toggleable__control:checked~label.sk-toggleable__label-arrow:before {\n",
       "  content: \"▾\";\n",
       "}\n",
       "\n",
       "/* Pipeline/ColumnTransformer-specific style */\n",
       "\n",
       "#sk-container-id-2 div.sk-label input.sk-toggleable__control:checked~label.sk-toggleable__label {\n",
       "  color: var(--sklearn-color-text);\n",
       "  background-color: var(--sklearn-color-unfitted-level-2);\n",
       "}\n",
       "\n",
       "#sk-container-id-2 div.sk-label.fitted input.sk-toggleable__control:checked~label.sk-toggleable__label {\n",
       "  background-color: var(--sklearn-color-fitted-level-2);\n",
       "}\n",
       "\n",
       "/* Estimator-specific style */\n",
       "\n",
       "/* Colorize estimator box */\n",
       "#sk-container-id-2 div.sk-estimator input.sk-toggleable__control:checked~label.sk-toggleable__label {\n",
       "  /* unfitted */\n",
       "  background-color: var(--sklearn-color-unfitted-level-2);\n",
       "}\n",
       "\n",
       "#sk-container-id-2 div.sk-estimator.fitted input.sk-toggleable__control:checked~label.sk-toggleable__label {\n",
       "  /* fitted */\n",
       "  background-color: var(--sklearn-color-fitted-level-2);\n",
       "}\n",
       "\n",
       "#sk-container-id-2 div.sk-label label.sk-toggleable__label,\n",
       "#sk-container-id-2 div.sk-label label {\n",
       "  /* The background is the default theme color */\n",
       "  color: var(--sklearn-color-text-on-default-background);\n",
       "}\n",
       "\n",
       "/* On hover, darken the color of the background */\n",
       "#sk-container-id-2 div.sk-label:hover label.sk-toggleable__label {\n",
       "  color: var(--sklearn-color-text);\n",
       "  background-color: var(--sklearn-color-unfitted-level-2);\n",
       "}\n",
       "\n",
       "/* Label box, darken color on hover, fitted */\n",
       "#sk-container-id-2 div.sk-label.fitted:hover label.sk-toggleable__label.fitted {\n",
       "  color: var(--sklearn-color-text);\n",
       "  background-color: var(--sklearn-color-fitted-level-2);\n",
       "}\n",
       "\n",
       "/* Estimator label */\n",
       "\n",
       "#sk-container-id-2 div.sk-label label {\n",
       "  font-family: monospace;\n",
       "  font-weight: bold;\n",
       "  display: inline-block;\n",
       "  line-height: 1.2em;\n",
       "}\n",
       "\n",
       "#sk-container-id-2 div.sk-label-container {\n",
       "  text-align: center;\n",
       "}\n",
       "\n",
       "/* Estimator-specific */\n",
       "#sk-container-id-2 div.sk-estimator {\n",
       "  font-family: monospace;\n",
       "  border: 1px dotted var(--sklearn-color-border-box);\n",
       "  border-radius: 0.25em;\n",
       "  box-sizing: border-box;\n",
       "  margin-bottom: 0.5em;\n",
       "  /* unfitted */\n",
       "  background-color: var(--sklearn-color-unfitted-level-0);\n",
       "}\n",
       "\n",
       "#sk-container-id-2 div.sk-estimator.fitted {\n",
       "  /* fitted */\n",
       "  background-color: var(--sklearn-color-fitted-level-0);\n",
       "}\n",
       "\n",
       "/* on hover */\n",
       "#sk-container-id-2 div.sk-estimator:hover {\n",
       "  /* unfitted */\n",
       "  background-color: var(--sklearn-color-unfitted-level-2);\n",
       "}\n",
       "\n",
       "#sk-container-id-2 div.sk-estimator.fitted:hover {\n",
       "  /* fitted */\n",
       "  background-color: var(--sklearn-color-fitted-level-2);\n",
       "}\n",
       "\n",
       "/* Specification for estimator info (e.g. \"i\" and \"?\") */\n",
       "\n",
       "/* Common style for \"i\" and \"?\" */\n",
       "\n",
       ".sk-estimator-doc-link,\n",
       "a:link.sk-estimator-doc-link,\n",
       "a:visited.sk-estimator-doc-link {\n",
       "  float: right;\n",
       "  font-size: smaller;\n",
       "  line-height: 1em;\n",
       "  font-family: monospace;\n",
       "  background-color: var(--sklearn-color-background);\n",
       "  border-radius: 1em;\n",
       "  height: 1em;\n",
       "  width: 1em;\n",
       "  text-decoration: none !important;\n",
       "  margin-left: 0.5em;\n",
       "  text-align: center;\n",
       "  /* unfitted */\n",
       "  border: var(--sklearn-color-unfitted-level-1) 1pt solid;\n",
       "  color: var(--sklearn-color-unfitted-level-1);\n",
       "}\n",
       "\n",
       ".sk-estimator-doc-link.fitted,\n",
       "a:link.sk-estimator-doc-link.fitted,\n",
       "a:visited.sk-estimator-doc-link.fitted {\n",
       "  /* fitted */\n",
       "  border: var(--sklearn-color-fitted-level-1) 1pt solid;\n",
       "  color: var(--sklearn-color-fitted-level-1);\n",
       "}\n",
       "\n",
       "/* On hover */\n",
       "div.sk-estimator:hover .sk-estimator-doc-link:hover,\n",
       ".sk-estimator-doc-link:hover,\n",
       "div.sk-label-container:hover .sk-estimator-doc-link:hover,\n",
       ".sk-estimator-doc-link:hover {\n",
       "  /* unfitted */\n",
       "  background-color: var(--sklearn-color-unfitted-level-3);\n",
       "  color: var(--sklearn-color-background);\n",
       "  text-decoration: none;\n",
       "}\n",
       "\n",
       "div.sk-estimator.fitted:hover .sk-estimator-doc-link.fitted:hover,\n",
       ".sk-estimator-doc-link.fitted:hover,\n",
       "div.sk-label-container:hover .sk-estimator-doc-link.fitted:hover,\n",
       ".sk-estimator-doc-link.fitted:hover {\n",
       "  /* fitted */\n",
       "  background-color: var(--sklearn-color-fitted-level-3);\n",
       "  color: var(--sklearn-color-background);\n",
       "  text-decoration: none;\n",
       "}\n",
       "\n",
       "/* Span, style for the box shown on hovering the info icon */\n",
       ".sk-estimator-doc-link span {\n",
       "  display: none;\n",
       "  z-index: 9999;\n",
       "  position: relative;\n",
       "  font-weight: normal;\n",
       "  right: .2ex;\n",
       "  padding: .5ex;\n",
       "  margin: .5ex;\n",
       "  width: min-content;\n",
       "  min-width: 20ex;\n",
       "  max-width: 50ex;\n",
       "  color: var(--sklearn-color-text);\n",
       "  box-shadow: 2pt 2pt 4pt #999;\n",
       "  /* unfitted */\n",
       "  background: var(--sklearn-color-unfitted-level-0);\n",
       "  border: .5pt solid var(--sklearn-color-unfitted-level-3);\n",
       "}\n",
       "\n",
       ".sk-estimator-doc-link.fitted span {\n",
       "  /* fitted */\n",
       "  background: var(--sklearn-color-fitted-level-0);\n",
       "  border: var(--sklearn-color-fitted-level-3);\n",
       "}\n",
       "\n",
       ".sk-estimator-doc-link:hover span {\n",
       "  display: block;\n",
       "}\n",
       "\n",
       "/* \"?\"-specific style due to the `<a>` HTML tag */\n",
       "\n",
       "#sk-container-id-2 a.estimator_doc_link {\n",
       "  float: right;\n",
       "  font-size: 1rem;\n",
       "  line-height: 1em;\n",
       "  font-family: monospace;\n",
       "  background-color: var(--sklearn-color-background);\n",
       "  border-radius: 1rem;\n",
       "  height: 1rem;\n",
       "  width: 1rem;\n",
       "  text-decoration: none;\n",
       "  /* unfitted */\n",
       "  color: var(--sklearn-color-unfitted-level-1);\n",
       "  border: var(--sklearn-color-unfitted-level-1) 1pt solid;\n",
       "}\n",
       "\n",
       "#sk-container-id-2 a.estimator_doc_link.fitted {\n",
       "  /* fitted */\n",
       "  border: var(--sklearn-color-fitted-level-1) 1pt solid;\n",
       "  color: var(--sklearn-color-fitted-level-1);\n",
       "}\n",
       "\n",
       "/* On hover */\n",
       "#sk-container-id-2 a.estimator_doc_link:hover {\n",
       "  /* unfitted */\n",
       "  background-color: var(--sklearn-color-unfitted-level-3);\n",
       "  color: var(--sklearn-color-background);\n",
       "  text-decoration: none;\n",
       "}\n",
       "\n",
       "#sk-container-id-2 a.estimator_doc_link.fitted:hover {\n",
       "  /* fitted */\n",
       "  background-color: var(--sklearn-color-fitted-level-3);\n",
       "}\n",
       "</style><div id=\"sk-container-id-2\" class=\"sk-top-container\"><div class=\"sk-text-repr-fallback\"><pre> ARIMA(1,0,2)(1,0,1)[7] intercept</pre><b>In a Jupyter environment, please rerun this cell to show the HTML representation or trust the notebook. <br />On GitHub, the HTML representation is unable to render, please try loading this page with nbviewer.org.</b></div><div class=\"sk-container\" hidden><div class=\"sk-item\"><div class=\"sk-estimator fitted sk-toggleable\"><input class=\"sk-toggleable__control sk-hidden--visually\" id=\"sk-estimator-id-2\" type=\"checkbox\" checked><label for=\"sk-estimator-id-2\" class=\"sk-toggleable__label fitted sk-toggleable__label-arrow\"><div><div>ARIMA</div></div><div><span class=\"sk-estimator-doc-link fitted\">i<span>Fitted</span></span></div></label><div class=\"sk-toggleable__content fitted\"><pre> ARIMA(1,0,2)(1,0,1)[7] intercept</pre></div> </div></div></div></div>"
      ],
      "text/plain": [
       "ARIMA(order=(1, 0, 2), seasonal_order=(1, 0, 1, 7))"
      ]
     },
     "execution_count": 78,
     "metadata": {},
     "output_type": "execute_result"
    }
   ],
   "source": [
    "tuned_models = ARIMA(\n",
    "    order= (p,d,q), \n",
    "    seasonal_order=(P,D,Q,m)\n",
    ")\n",
    "\n",
    "tuned_models.fit(y,X)"
   ]
  },
  {
   "cell_type": "code",
   "execution_count": 80,
   "id": "09cc54d7",
   "metadata": {},
   "outputs": [],
   "source": [
    "predictions = tuned_models.predict(n_periods=len(X_future), X = X_future)"
   ]
  },
  {
   "cell_type": "code",
   "execution_count": 81,
   "id": "aeb14020",
   "metadata": {},
   "outputs": [],
   "source": [
    "# Function to plot the future\n",
    "def plot_future(y, forecast, title):\n",
    "  # Set the size of the plot to 10 inches by 4 inches\n",
    "  plt.figure(figsize = (10,4))\n",
    "  # Plot the train and forecast data\n",
    "  plt.plot(y, label = 'Train')\n",
    "  plt.plot(forecast, label = \"Forecast\")\n",
    "  # add title and legend to the plot\n",
    "  plt.title(f\"Train and Forecast with {title}\")\n",
    "  plt.legend()\n",
    "  plt.show()"
   ]
  },
  {
   "cell_type": "code",
   "execution_count": 83,
   "id": "4b1f1605",
   "metadata": {},
   "outputs": [
    {
     "data": {
      "image/png": "[encoded data removed]",
      "text/plain": [
       "<Figure size 1000x400 with 1 Axes>"
      ]
     },
     "metadata": {},
     "output_type": "display_data"
    }
   ],
   "source": [
    "plot_future(y,predictions,'sarimax')"
   ]
  },
  {
   "cell_type": "code",
   "execution_count": null,
   "id": "ec9de26f",
   "metadata": {},
   "outputs": [],
   "source": []
  }
 ],
 "metadata": {
  "kernelspec": {
   "display_name": "flask_env",
   "language": "python",
   "name": "python3"
  },
  "language_info": {
   "codemirror_mode": {
    "name": "ipython",
    "version": 3
   },
   "file_extension": ".py",
   "mimetype": "text/x-python",
   "name": "python",
   "nbconvert_exporter": "python",
   "pygments_lexer": "ipython3",
   "version": "3.12.0"
  }
 },
 "nbformat": 4,
 "nbformat_minor": 5
}
